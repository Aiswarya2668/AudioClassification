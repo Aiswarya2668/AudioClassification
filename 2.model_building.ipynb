{
 "cells": [
  {
   "cell_type": "markdown",
   "metadata": {},
   "source": [
    "### import required packages\n"
   ]
  },
  {
   "cell_type": "code",
   "execution_count": 107,
   "metadata": {},
   "outputs": [],
   "source": [
    "import pandas as pd\n",
    "import matplotlib.pyplot as plt\n",
    "import numpy as np\n",
    "import tensorflow as tf\n",
    "from keras import callbacks\n",
    "from tensorflow.keras.models import Sequential\n",
    "from tensorflow.keras.layers import Dense,Dropout,Activation,Flatten, BatchNormalization\n",
    "from tensorflow.keras.optimizers import Adam\n",
    "from sklearn import metrics\n",
    "from tensorflow.keras.utils import to_categorical\n",
    "from sklearn.preprocessing import LabelEncoder\n",
    "from sklearn.model_selection import train_test_split\n",
    "from sklearn.metrics import classification_report, accuracy_score, confusion_matrix , roc_curve, auc\n",
    "from itertools import cycle\n",
    "from sklearn.multiclass import OneVsRestClassifier\n",
    "from sklearn.model_selection import learning_curve\n",
    "from tensorflow.keras.callbacks import ModelCheckpoint\n",
    "from imblearn.over_sampling import SMOTE\n",
    "from sklearn.ensemble import RandomForestClassifier\n",
    "from sklearn.linear_model import LogisticRegression\n",
    "from pickle import dump\n",
    "from datetime import datetime"
   ]
  },
  {
   "cell_type": "code",
   "execution_count": 108,
   "metadata": {},
   "outputs": [],
   "source": [
    "#load the dataset with extracted features\n",
    "extracted_features_df = pd.read_csv(\"output/extracted_features.csv\")"
   ]
  },
  {
   "cell_type": "code",
   "execution_count": 109,
   "metadata": {},
   "outputs": [],
   "source": [
    "#drop the class column from the dataset to get the input features. \n",
    "#also drop the low important features.\n",
    "cols_to_drop = ['class','18','20','21','22','23','24','27','29','31','33','35','38']\n",
    "\n",
    "features = extracted_features_df.drop(cols_to_drop, axis  =1)"
   ]
  },
  {
   "cell_type": "code",
   "execution_count": 110,
   "metadata": {},
   "outputs": [
    {
     "data": {
      "text/html": [
       "<div>\n",
       "<style scoped>\n",
       "    .dataframe tbody tr th:only-of-type {\n",
       "        vertical-align: middle;\n",
       "    }\n",
       "\n",
       "    .dataframe tbody tr th {\n",
       "        vertical-align: top;\n",
       "    }\n",
       "\n",
       "    .dataframe thead th {\n",
       "        text-align: right;\n",
       "    }\n",
       "</style>\n",
       "<table border=\"1\" class=\"dataframe\">\n",
       "  <thead>\n",
       "    <tr style=\"text-align: right;\">\n",
       "      <th></th>\n",
       "      <th>0</th>\n",
       "      <th>1</th>\n",
       "      <th>2</th>\n",
       "      <th>3</th>\n",
       "      <th>4</th>\n",
       "      <th>5</th>\n",
       "      <th>6</th>\n",
       "      <th>7</th>\n",
       "      <th>8</th>\n",
       "      <th>9</th>\n",
       "      <th>...</th>\n",
       "      <th>19</th>\n",
       "      <th>25</th>\n",
       "      <th>26</th>\n",
       "      <th>28</th>\n",
       "      <th>30</th>\n",
       "      <th>32</th>\n",
       "      <th>34</th>\n",
       "      <th>36</th>\n",
       "      <th>37</th>\n",
       "      <th>39</th>\n",
       "    </tr>\n",
       "  </thead>\n",
       "  <tbody>\n",
       "    <tr>\n",
       "      <th>0</th>\n",
       "      <td>-211.936981</td>\n",
       "      <td>62.581215</td>\n",
       "      <td>-122.813156</td>\n",
       "      <td>-60.745293</td>\n",
       "      <td>-13.893755</td>\n",
       "      <td>-29.789835</td>\n",
       "      <td>-3.978871</td>\n",
       "      <td>11.682741</td>\n",
       "      <td>12.963832</td>\n",
       "      <td>8.336420</td>\n",
       "      <td>...</td>\n",
       "      <td>6.098300</td>\n",
       "      <td>-0.079942</td>\n",
       "      <td>-3.687083</td>\n",
       "      <td>-6.530089</td>\n",
       "      <td>0.487733</td>\n",
       "      <td>-0.885353</td>\n",
       "      <td>-6.392367</td>\n",
       "      <td>2.276020</td>\n",
       "      <td>-0.791080</td>\n",
       "      <td>1.321153</td>\n",
       "    </tr>\n",
       "    <tr>\n",
       "      <th>1</th>\n",
       "      <td>-417.005188</td>\n",
       "      <td>99.336624</td>\n",
       "      <td>-42.995586</td>\n",
       "      <td>51.073326</td>\n",
       "      <td>9.853777</td>\n",
       "      <td>7.969694</td>\n",
       "      <td>11.197088</td>\n",
       "      <td>1.929117</td>\n",
       "      <td>7.030397</td>\n",
       "      <td>4.270227</td>\n",
       "      <td>...</td>\n",
       "      <td>3.473615</td>\n",
       "      <td>0.202489</td>\n",
       "      <td>-3.651717</td>\n",
       "      <td>-5.906362</td>\n",
       "      <td>-1.250226</td>\n",
       "      <td>-1.539241</td>\n",
       "      <td>-0.878723</td>\n",
       "      <td>-2.681854</td>\n",
       "      <td>1.706798</td>\n",
       "      <td>1.761385</td>\n",
       "    </tr>\n",
       "    <tr>\n",
       "      <th>2</th>\n",
       "      <td>-452.393158</td>\n",
       "      <td>112.362534</td>\n",
       "      <td>-37.578075</td>\n",
       "      <td>43.195866</td>\n",
       "      <td>8.631845</td>\n",
       "      <td>15.379366</td>\n",
       "      <td>16.882149</td>\n",
       "      <td>1.233047</td>\n",
       "      <td>6.833122</td>\n",
       "      <td>3.900116</td>\n",
       "      <td>...</td>\n",
       "      <td>9.371600</td>\n",
       "      <td>2.007746</td>\n",
       "      <td>-2.184638</td>\n",
       "      <td>-2.849392</td>\n",
       "      <td>0.067257</td>\n",
       "      <td>-5.285955</td>\n",
       "      <td>-2.979211</td>\n",
       "      <td>-3.088082</td>\n",
       "      <td>3.808014</td>\n",
       "      <td>0.869102</td>\n",
       "    </tr>\n",
       "    <tr>\n",
       "      <th>3</th>\n",
       "      <td>-406.479218</td>\n",
       "      <td>91.196602</td>\n",
       "      <td>-25.043556</td>\n",
       "      <td>42.784523</td>\n",
       "      <td>11.586844</td>\n",
       "      <td>5.054164</td>\n",
       "      <td>12.431632</td>\n",
       "      <td>-1.599949</td>\n",
       "      <td>6.656064</td>\n",
       "      <td>1.442354</td>\n",
       "      <td>...</td>\n",
       "      <td>3.382272</td>\n",
       "      <td>0.103931</td>\n",
       "      <td>-3.608313</td>\n",
       "      <td>-4.282879</td>\n",
       "      <td>-4.996307</td>\n",
       "      <td>0.635734</td>\n",
       "      <td>-2.831121</td>\n",
       "      <td>-2.178432</td>\n",
       "      <td>-0.436479</td>\n",
       "      <td>-0.170013</td>\n",
       "    </tr>\n",
       "    <tr>\n",
       "      <th>4</th>\n",
       "      <td>-439.638733</td>\n",
       "      <td>103.862228</td>\n",
       "      <td>-42.658787</td>\n",
       "      <td>50.690285</td>\n",
       "      <td>12.209422</td>\n",
       "      <td>15.873465</td>\n",
       "      <td>11.729268</td>\n",
       "      <td>1.533584</td>\n",
       "      <td>11.292241</td>\n",
       "      <td>2.548622</td>\n",
       "      <td>...</td>\n",
       "      <td>9.253263</td>\n",
       "      <td>1.705379</td>\n",
       "      <td>-1.551520</td>\n",
       "      <td>-1.003362</td>\n",
       "      <td>-2.928395</td>\n",
       "      <td>-0.985246</td>\n",
       "      <td>-2.976879</td>\n",
       "      <td>-1.825601</td>\n",
       "      <td>3.291397</td>\n",
       "      <td>1.392584</td>\n",
       "    </tr>\n",
       "    <tr>\n",
       "      <th>...</th>\n",
       "      <td>...</td>\n",
       "      <td>...</td>\n",
       "      <td>...</td>\n",
       "      <td>...</td>\n",
       "      <td>...</td>\n",
       "      <td>...</td>\n",
       "      <td>...</td>\n",
       "      <td>...</td>\n",
       "      <td>...</td>\n",
       "      <td>...</td>\n",
       "      <td>...</td>\n",
       "      <td>...</td>\n",
       "      <td>...</td>\n",
       "      <td>...</td>\n",
       "      <td>...</td>\n",
       "      <td>...</td>\n",
       "      <td>...</td>\n",
       "      <td>...</td>\n",
       "      <td>...</td>\n",
       "      <td>...</td>\n",
       "      <td>...</td>\n",
       "    </tr>\n",
       "    <tr>\n",
       "      <th>8727</th>\n",
       "      <td>-391.372101</td>\n",
       "      <td>125.362389</td>\n",
       "      <td>-40.634056</td>\n",
       "      <td>25.899754</td>\n",
       "      <td>1.730348</td>\n",
       "      <td>5.575200</td>\n",
       "      <td>16.873087</td>\n",
       "      <td>7.889440</td>\n",
       "      <td>3.488612</td>\n",
       "      <td>-4.572375</td>\n",
       "      <td>...</td>\n",
       "      <td>-2.909554</td>\n",
       "      <td>-0.984938</td>\n",
       "      <td>-6.977015</td>\n",
       "      <td>7.583447</td>\n",
       "      <td>-8.737840</td>\n",
       "      <td>3.553833</td>\n",
       "      <td>-1.022627</td>\n",
       "      <td>-5.585060</td>\n",
       "      <td>-5.811629</td>\n",
       "      <td>5.453191</td>\n",
       "    </tr>\n",
       "    <tr>\n",
       "      <th>8728</th>\n",
       "      <td>-339.427155</td>\n",
       "      <td>76.409096</td>\n",
       "      <td>-35.309879</td>\n",
       "      <td>41.984035</td>\n",
       "      <td>-22.963869</td>\n",
       "      <td>-13.623510</td>\n",
       "      <td>27.856022</td>\n",
       "      <td>-9.215821</td>\n",
       "      <td>-5.666291</td>\n",
       "      <td>13.024157</td>\n",
       "      <td>...</td>\n",
       "      <td>-0.949650</td>\n",
       "      <td>-2.513226</td>\n",
       "      <td>-3.050802</td>\n",
       "      <td>-1.959760</td>\n",
       "      <td>4.041203</td>\n",
       "      <td>-0.265233</td>\n",
       "      <td>3.841744</td>\n",
       "      <td>-2.501515</td>\n",
       "      <td>3.609870</td>\n",
       "      <td>-1.789298</td>\n",
       "    </tr>\n",
       "    <tr>\n",
       "      <th>8729</th>\n",
       "      <td>-297.315338</td>\n",
       "      <td>102.090256</td>\n",
       "      <td>-36.751080</td>\n",
       "      <td>26.816488</td>\n",
       "      <td>-0.249389</td>\n",
       "      <td>3.960868</td>\n",
       "      <td>11.113070</td>\n",
       "      <td>1.912290</td>\n",
       "      <td>0.677116</td>\n",
       "      <td>-1.804645</td>\n",
       "      <td>...</td>\n",
       "      <td>1.097709</td>\n",
       "      <td>-1.412809</td>\n",
       "      <td>-1.991353</td>\n",
       "      <td>-3.470325</td>\n",
       "      <td>-7.029233</td>\n",
       "      <td>3.187672</td>\n",
       "      <td>2.161261</td>\n",
       "      <td>-5.056086</td>\n",
       "      <td>-1.622446</td>\n",
       "      <td>9.132166</td>\n",
       "    </tr>\n",
       "    <tr>\n",
       "      <th>8730</th>\n",
       "      <td>-336.923859</td>\n",
       "      <td>115.313904</td>\n",
       "      <td>-44.847092</td>\n",
       "      <td>24.968985</td>\n",
       "      <td>-9.888027</td>\n",
       "      <td>-2.154685</td>\n",
       "      <td>22.700090</td>\n",
       "      <td>0.234236</td>\n",
       "      <td>-0.122908</td>\n",
       "      <td>10.174067</td>\n",
       "      <td>...</td>\n",
       "      <td>1.153534</td>\n",
       "      <td>2.321901</td>\n",
       "      <td>-4.179326</td>\n",
       "      <td>1.537068</td>\n",
       "      <td>-8.690750</td>\n",
       "      <td>5.435959</td>\n",
       "      <td>0.774977</td>\n",
       "      <td>-5.386269</td>\n",
       "      <td>-6.769113</td>\n",
       "      <td>6.953491</td>\n",
       "    </tr>\n",
       "    <tr>\n",
       "      <th>8731</th>\n",
       "      <td>-307.417633</td>\n",
       "      <td>83.306725</td>\n",
       "      <td>-25.756512</td>\n",
       "      <td>35.448109</td>\n",
       "      <td>4.414006</td>\n",
       "      <td>-0.893326</td>\n",
       "      <td>9.015661</td>\n",
       "      <td>8.213615</td>\n",
       "      <td>-1.967305</td>\n",
       "      <td>-1.941081</td>\n",
       "      <td>...</td>\n",
       "      <td>1.295088</td>\n",
       "      <td>0.267161</td>\n",
       "      <td>-12.793362</td>\n",
       "      <td>5.166089</td>\n",
       "      <td>-11.295732</td>\n",
       "      <td>4.211935</td>\n",
       "      <td>1.083445</td>\n",
       "      <td>2.371562</td>\n",
       "      <td>0.839591</td>\n",
       "      <td>-5.595998</td>\n",
       "    </tr>\n",
       "  </tbody>\n",
       "</table>\n",
       "<p>8732 rows × 28 columns</p>\n",
       "</div>"
      ],
      "text/plain": [
       "               0           1           2          3          4          5  \\\n",
       "0    -211.936981   62.581215 -122.813156 -60.745293 -13.893755 -29.789835   \n",
       "1    -417.005188   99.336624  -42.995586  51.073326   9.853777   7.969694   \n",
       "2    -452.393158  112.362534  -37.578075  43.195866   8.631845  15.379366   \n",
       "3    -406.479218   91.196602  -25.043556  42.784523  11.586844   5.054164   \n",
       "4    -439.638733  103.862228  -42.658787  50.690285  12.209422  15.873465   \n",
       "...          ...         ...         ...        ...        ...        ...   \n",
       "8727 -391.372101  125.362389  -40.634056  25.899754   1.730348   5.575200   \n",
       "8728 -339.427155   76.409096  -35.309879  41.984035 -22.963869 -13.623510   \n",
       "8729 -297.315338  102.090256  -36.751080  26.816488  -0.249389   3.960868   \n",
       "8730 -336.923859  115.313904  -44.847092  24.968985  -9.888027  -2.154685   \n",
       "8731 -307.417633   83.306725  -25.756512  35.448109   4.414006  -0.893326   \n",
       "\n",
       "              6          7          8          9  ...        19        25  \\\n",
       "0     -3.978871  11.682741  12.963832   8.336420  ...  6.098300 -0.079942   \n",
       "1     11.197088   1.929117   7.030397   4.270227  ...  3.473615  0.202489   \n",
       "2     16.882149   1.233047   6.833122   3.900116  ...  9.371600  2.007746   \n",
       "3     12.431632  -1.599949   6.656064   1.442354  ...  3.382272  0.103931   \n",
       "4     11.729268   1.533584  11.292241   2.548622  ...  9.253263  1.705379   \n",
       "...         ...        ...        ...        ...  ...       ...       ...   \n",
       "8727  16.873087   7.889440   3.488612  -4.572375  ... -2.909554 -0.984938   \n",
       "8728  27.856022  -9.215821  -5.666291  13.024157  ... -0.949650 -2.513226   \n",
       "8729  11.113070   1.912290   0.677116  -1.804645  ...  1.097709 -1.412809   \n",
       "8730  22.700090   0.234236  -0.122908  10.174067  ...  1.153534  2.321901   \n",
       "8731   9.015661   8.213615  -1.967305  -1.941081  ...  1.295088  0.267161   \n",
       "\n",
       "             26        28         30        32        34        36        37  \\\n",
       "0     -3.687083 -6.530089   0.487733 -0.885353 -6.392367  2.276020 -0.791080   \n",
       "1     -3.651717 -5.906362  -1.250226 -1.539241 -0.878723 -2.681854  1.706798   \n",
       "2     -2.184638 -2.849392   0.067257 -5.285955 -2.979211 -3.088082  3.808014   \n",
       "3     -3.608313 -4.282879  -4.996307  0.635734 -2.831121 -2.178432 -0.436479   \n",
       "4     -1.551520 -1.003362  -2.928395 -0.985246 -2.976879 -1.825601  3.291397   \n",
       "...         ...       ...        ...       ...       ...       ...       ...   \n",
       "8727  -6.977015  7.583447  -8.737840  3.553833 -1.022627 -5.585060 -5.811629   \n",
       "8728  -3.050802 -1.959760   4.041203 -0.265233  3.841744 -2.501515  3.609870   \n",
       "8729  -1.991353 -3.470325  -7.029233  3.187672  2.161261 -5.056086 -1.622446   \n",
       "8730  -4.179326  1.537068  -8.690750  5.435959  0.774977 -5.386269 -6.769113   \n",
       "8731 -12.793362  5.166089 -11.295732  4.211935  1.083445  2.371562  0.839591   \n",
       "\n",
       "            39  \n",
       "0     1.321153  \n",
       "1     1.761385  \n",
       "2     0.869102  \n",
       "3    -0.170013  \n",
       "4     1.392584  \n",
       "...        ...  \n",
       "8727  5.453191  \n",
       "8728 -1.789298  \n",
       "8729  9.132166  \n",
       "8730  6.953491  \n",
       "8731 -5.595998  \n",
       "\n",
       "[8732 rows x 28 columns]"
      ]
     },
     "execution_count": 110,
     "metadata": {},
     "output_type": "execute_result"
    }
   ],
   "source": [
    "features"
   ]
  },
  {
   "cell_type": "markdown",
   "metadata": {},
   "source": [
    "The new dataset include 8732 rows and 28 columns(high important features)."
   ]
  },
  {
   "cell_type": "markdown",
   "metadata": {},
   "source": [
    "## set dependent and independent variables"
   ]
  },
  {
   "cell_type": "code",
   "execution_count": 111,
   "metadata": {},
   "outputs": [],
   "source": [
    "#name the input features as X\n",
    "X = features[list(features.columns)]"
   ]
  },
  {
   "cell_type": "code",
   "execution_count": 112,
   "metadata": {},
   "outputs": [
    {
     "data": {
      "text/plain": [
       "(8732, 28)"
      ]
     },
     "execution_count": 112,
     "metadata": {},
     "output_type": "execute_result"
    }
   ],
   "source": [
    "X.shape"
   ]
  },
  {
   "cell_type": "code",
   "execution_count": 113,
   "metadata": {},
   "outputs": [
    {
     "data": {
      "text/plain": [
       "(8732, 1)"
      ]
     },
     "execution_count": 113,
     "metadata": {},
     "output_type": "execute_result"
    }
   ],
   "source": [
    "# class column is the target variable. This is named as Y\n",
    "Y = extracted_features_df[['class']]\n",
    "Y.shape "
   ]
  },
  {
   "cell_type": "code",
   "execution_count": 114,
   "metadata": {},
   "outputs": [
    {
     "name": "stderr",
     "output_type": "stream",
     "text": [
      "/home/msc1/anaconda3/envs/Env-7145COMP/lib/python3.7/site-packages/sklearn/preprocessing/_label.py:115: DataConversionWarning: A column-vector y was passed when a 1d array was expected. Please change the shape of y to (n_samples, ), for example using ravel().\n",
      "  y = column_or_1d(y, warn=True)\n"
     ]
    }
   ],
   "source": [
    "# use label encoder to Encode target labels with value between 0 and n_classes-1\n",
    "labelencoder=LabelEncoder()\n",
    "Y=to_categorical(labelencoder.fit_transform(Y))"
   ]
  },
  {
   "cell_type": "code",
   "execution_count": 115,
   "metadata": {},
   "outputs": [],
   "source": [
    "# Split the data into training and test set. Training set is used for training the model. *0% of the data is used for training the model\n",
    "X_train,X_test,y_train,y_test=train_test_split(X,Y,test_size=0.2,random_state=0)"
   ]
  },
  {
   "cell_type": "code",
   "execution_count": 116,
   "metadata": {},
   "outputs": [],
   "source": [
    "### No of classes\n",
    "num_labels=Y.shape[1]"
   ]
  },
  {
   "cell_type": "code",
   "execution_count": 117,
   "metadata": {},
   "outputs": [
    {
     "data": {
      "text/plain": [
       "10"
      ]
     },
     "execution_count": 117,
     "metadata": {},
     "output_type": "execute_result"
    }
   ],
   "source": [
    "num_labels"
   ]
  },
  {
   "cell_type": "markdown",
   "metadata": {},
   "source": [
    "### SMOTE for balance the class"
   ]
  },
  {
   "cell_type": "markdown",
   "metadata": {},
   "source": [
    "In this audio classification has class imbalance issue. This problem occurs when the number of samples in one class is significantly higher or lower than the other classes. In this case, the classifier may be biased towards the majority class and fail to identify the minority class.\n",
    "\n",
    "To address class imbalance in MFCC features, Here I use SMOTE.\n",
    "\n",
    "\n",
    "SMOTE (Synthetic Minority Over-sampling Technique) is an important technique used in addressing class imbalance in audio classification. In many real-world applications, data can be highly imbalanced, meaning that there are much more instances of one class than the other. This can lead to poor performance of machine learning models, especially when the minority class is of greater interest.\n",
    "\n",
    "SMOTE addresses this issue by oversampling the minority class using synthetic examples. It generates new samples for the minority class by interpolating existing samples, which increases the overall size of the minority class and balances the class distribution. This helps to improve the classification performance of machine learning models by providing them with more training examples for the minority class.\n",
    "\n",
    "In audio classification, SMOTE can be applied to MFCC feature vectors, which are commonly used to represent audio signals in machine learning models. By applying SMOTE to the MFCC feature vectors, we can address class imbalance and improve the performance of machine learning models for audio classification tasks."
   ]
  },
  {
   "cell_type": "code",
   "execution_count": 118,
   "metadata": {},
   "outputs": [
    {
     "name": "stdout",
     "output_type": "stream",
     "text": [
      "Class distribution after SMOTE: [[0 0 0 ... 1 0 0]\n",
      " [0 0 0 ... 0 0 0]\n",
      " [0 0 0 ... 0 0 0]\n",
      " ...\n",
      " [0 0 0 ... 0 1 0]\n",
      " [0 0 0 ... 0 1 0]\n",
      " [0 0 0 ... 0 0 1]]\n"
     ]
    }
   ],
   "source": [
    "\n",
    "# Initialize the SMOTE object\n",
    "smote = SMOTE(random_state=42)\n",
    "\n",
    "# Fit the SMOTE object to the training data\n",
    "X_train_resampled, y_train_resampled = smote.fit_resample(X_train, y_train)\n",
    "\n",
    "# Print the class distribution after applying SMOTE\n",
    "print('Class distribution after SMOTE:', y_train_resampled)"
   ]
  },
  {
   "cell_type": "code",
   "execution_count": 119,
   "metadata": {},
   "outputs": [
    {
     "name": "stdout",
     "output_type": "stream",
     "text": [
      "[818 818 818 818 818 818 818 818 818 818]\n"
     ]
    }
   ],
   "source": [
    "class_counts = np.sum(y_train_resampled, axis=0)\n",
    "print(class_counts)"
   ]
  },
  {
   "cell_type": "markdown",
   "metadata": {},
   "source": [
    "After applying SMOTE, total count of all class is 818. So our class is balanced."
   ]
  },
  {
   "cell_type": "markdown",
   "metadata": {},
   "source": [
    "## 1) Neural Network Model"
   ]
  },
  {
   "cell_type": "markdown",
   "metadata": {},
   "source": [
    "Neural networks can be used for audio classification by treating audio data as a sequence of signals over time.\n",
    "\n",
    "The audio data is first preprocessed by extracting features such as Mel-frequency cepstral coefficients (MFCCs) which represent the spectral envelope of the audio signal. These features are then fed into the input layer of the neural network which consists of a series of convolutional and pooling layers that are able to extract features from the audio signals.\n",
    "\n",
    "After the input layer, there are one or more fully connected layers which are used to classify the audio data. These layers learn the patterns that are most indicative of each audio class, and the final layer outputs a probability distribution over the different audio classes.\n",
    "\n",
    "Training a neural network for audio classification typically involves feeding a large number of labeled audio samples into the network and adjusting the weights of the network based on the errors between the predicted class probabilities and the true labels. This process is repeated over many epochs until the network is able to accurately classify audio data.\n",
    "\n",
    "In summary, neural networks can be used for audio classification by treating audio data as a sequence of signals over time, preprocessing the data to extract relevant features, and training a neural network to classify the data based on these features."
   ]
  },
  {
   "cell_type": "code",
   "execution_count": 120,
   "metadata": {},
   "outputs": [
    {
     "name": "stdout",
     "output_type": "stream",
     "text": [
      "Model: \"sequential_1\"\n",
      "_________________________________________________________________\n",
      " Layer (type)                Output Shape              Param #   \n",
      "=================================================================\n",
      " dense_5 (Dense)             (None, 128)               3712      \n",
      "                                                                 \n",
      " activation_4 (Activation)   (None, 128)               0         \n",
      "                                                                 \n",
      " dropout_3 (Dropout)         (None, 128)               0         \n",
      "                                                                 \n",
      " dense_6 (Dense)             (None, 256)               33024     \n",
      "                                                                 \n",
      " activation_5 (Activation)   (None, 256)               0         \n",
      "                                                                 \n",
      " dropout_4 (Dropout)         (None, 256)               0         \n",
      "                                                                 \n",
      " dense_7 (Dense)             (None, 256)               65792     \n",
      "                                                                 \n",
      " activation_6 (Activation)   (None, 256)               0         \n",
      "                                                                 \n",
      " dropout_5 (Dropout)         (None, 256)               0         \n",
      "                                                                 \n",
      " dense_8 (Dense)             (None, 128)               32896     \n",
      "                                                                 \n",
      " dense_9 (Dense)             (None, 10)                1290      \n",
      "                                                                 \n",
      " activation_7 (Activation)   (None, 10)                0         \n",
      "                                                                 \n",
      "=================================================================\n",
      "Total params: 136,714\n",
      "Trainable params: 136,714\n",
      "Non-trainable params: 0\n",
      "_________________________________________________________________\n"
     ]
    }
   ],
   "source": [
    "model = Sequential()\n",
    "\n",
    "model.add(Dense(128, input_shape=(28,)))\n",
    "model.add(Activation('relu'))\n",
    "model.add(Dropout(0.5))\n",
    "\n",
    "model.add(Dense(256))\n",
    "model.add(Activation('relu'))\n",
    "model.add(Dropout(0.5))\n",
    "model.add(Dense(256))\n",
    "model.add(Activation('relu'))\n",
    "model.add(Dropout(0.5))\n",
    "model.add(Dense(128))\n",
    "\n",
    "model.add(Dense(num_labels))\n",
    "model.add(Activation('softmax'))\n",
    "model.summary()"
   ]
  },
  {
   "cell_type": "markdown",
   "metadata": {},
   "source": [
    "The output is showing the architecture of a neural network model. The model has 5 layers, including 4 dense layers and 1 activation layer. The first dense layer has 128 units, the second and third dense layers have 256 units each, and the fourth dense layer has 128 units. The last dense layer has 10 units, which is the number of classes the model is trained to classify.\n",
    "\n",
    "The activation layer uses the activation function, which is applied to the output of the previous layer, to introduce non-linearity into the model. Dropout layers have been added after each dense layer to reduce overfitting.\n",
    "\n",
    "The output also shows the number of trainable parameters in the model, which is 136,714 in this case."
   ]
  },
  {
   "cell_type": "code",
   "execution_count": 121,
   "metadata": {},
   "outputs": [],
   "source": [
    "#compiling the model layers\n",
    "model.compile(optimizer=tf.keras.optimizers.Adam(),loss=tf.keras.losses.CategoricalCrossentropy(),metrics=['accuracy'])"
   ]
  },
  {
   "cell_type": "markdown",
   "metadata": {},
   "source": [
    "* The optimizer argument specifies the optimization algorithm to use during training. In this case, the Adam optimizer is used which is a popular optimization algorithm that is effective for a wide range of deep learning models.\n",
    "\n",
    "* The loss argument specifies the loss function that will be used to evaluate the model's performance during training. In this case, the Categorical Crossentropy loss is used, which is commonly used for multi-class classification problems.\n",
    "\n",
    "* The metrics argument specifies the metrics that will be used to monitor the model's performance during training. In this case, 'accuracy' is used as the metric, which is a standard metric for classification problems that calculates the proportion of correctly classified samples."
   ]
  },
  {
   "cell_type": "code",
   "execution_count": 122,
   "metadata": {},
   "outputs": [
    {
     "name": "stdout",
     "output_type": "stream",
     "text": [
      "Epoch 1/120\n",
      "255/256 [============================>.] - ETA: 0s - loss: 10.3410 - accuracy: 0.1288\n",
      "Epoch 1: val_loss improved from inf to 2.29634, saving model to output/audio_classification_nn.h5\n",
      "256/256 [==============================] - 1s 2ms/step - loss: 10.3229 - accuracy: 0.1287 - val_loss: 2.2963 - val_accuracy: 0.1139\n",
      "Epoch 2/120\n",
      "238/256 [==========================>...] - ETA: 0s - loss: 2.4479 - accuracy: 0.1668\n",
      "Epoch 2: val_loss did not improve from 2.29634\n",
      "256/256 [==============================] - 0s 2ms/step - loss: 2.4312 - accuracy: 0.1696 - val_loss: 2.3091 - val_accuracy: 0.1179\n",
      "Epoch 3/120\n",
      "238/256 [==========================>...] - ETA: 0s - loss: 2.2431 - accuracy: 0.1958\n",
      "Epoch 3: val_loss improved from 2.29634 to 2.23055, saving model to output/audio_classification_nn.h5\n",
      "256/256 [==============================] - 0s 2ms/step - loss: 2.2364 - accuracy: 0.1976 - val_loss: 2.2306 - val_accuracy: 0.1454\n",
      "Epoch 4/120\n",
      "231/256 [==========================>...] - ETA: 0s - loss: 2.1272 - accuracy: 0.2362\n",
      "Epoch 4: val_loss improved from 2.23055 to 2.01535, saving model to output/audio_classification_nn.h5\n",
      "256/256 [==============================] - 0s 2ms/step - loss: 2.1166 - accuracy: 0.2390 - val_loss: 2.0154 - val_accuracy: 0.2513\n",
      "Epoch 5/120\n",
      "240/256 [===========================>..] - ETA: 0s - loss: 1.9766 - accuracy: 0.2870\n",
      "Epoch 5: val_loss improved from 2.01535 to 1.85360, saving model to output/audio_classification_nn.h5\n",
      "256/256 [==============================] - 0s 2ms/step - loss: 1.9743 - accuracy: 0.2888 - val_loss: 1.8536 - val_accuracy: 0.3251\n",
      "Epoch 6/120\n",
      "236/256 [==========================>...] - ETA: 0s - loss: 1.8521 - accuracy: 0.3431\n",
      "Epoch 6: val_loss improved from 1.85360 to 1.72523, saving model to output/audio_classification_nn.h5\n",
      "256/256 [==============================] - 0s 2ms/step - loss: 1.8486 - accuracy: 0.3433 - val_loss: 1.7252 - val_accuracy: 0.3932\n",
      "Epoch 7/120\n",
      "234/256 [==========================>...] - ETA: 0s - loss: 1.7487 - accuracy: 0.3822\n",
      "Epoch 7: val_loss improved from 1.72523 to 1.59924, saving model to output/audio_classification_nn.h5\n",
      "256/256 [==============================] - 0s 2ms/step - loss: 1.7444 - accuracy: 0.3830 - val_loss: 1.5992 - val_accuracy: 0.4579\n",
      "Epoch 8/120\n",
      "230/256 [=========================>....] - ETA: 0s - loss: 1.6794 - accuracy: 0.3996\n",
      "Epoch 8: val_loss improved from 1.59924 to 1.55918, saving model to output/audio_classification_nn.h5\n",
      "256/256 [==============================] - 0s 2ms/step - loss: 1.6805 - accuracy: 0.4020 - val_loss: 1.5592 - val_accuracy: 0.4316\n",
      "Epoch 9/120\n",
      "228/256 [=========================>....] - ETA: 0s - loss: 1.5982 - accuracy: 0.4389\n",
      "Epoch 9: val_loss improved from 1.55918 to 1.48485, saving model to output/audio_classification_nn.h5\n",
      "256/256 [==============================] - 0s 2ms/step - loss: 1.6015 - accuracy: 0.4390 - val_loss: 1.4848 - val_accuracy: 0.4900\n",
      "Epoch 10/120\n",
      "241/256 [===========================>..] - ETA: 0s - loss: 1.5577 - accuracy: 0.4525\n",
      "Epoch 10: val_loss improved from 1.48485 to 1.39987, saving model to output/audio_classification_nn.h5\n",
      "256/256 [==============================] - 0s 2ms/step - loss: 1.5536 - accuracy: 0.4548 - val_loss: 1.3999 - val_accuracy: 0.5432\n",
      "Epoch 11/120\n",
      "235/256 [==========================>...] - ETA: 0s - loss: 1.5019 - accuracy: 0.4866\n",
      "Epoch 11: val_loss improved from 1.39987 to 1.38437, saving model to output/audio_classification_nn.h5\n",
      "256/256 [==============================] - 0s 2ms/step - loss: 1.5016 - accuracy: 0.4856 - val_loss: 1.3844 - val_accuracy: 0.5472\n",
      "Epoch 12/120\n",
      "234/256 [==========================>...] - ETA: 0s - loss: 1.4679 - accuracy: 0.5007\n",
      "Epoch 12: val_loss improved from 1.38437 to 1.34000, saving model to output/audio_classification_nn.h5\n",
      "256/256 [==============================] - 0s 2ms/step - loss: 1.4709 - accuracy: 0.4999 - val_loss: 1.3400 - val_accuracy: 0.5467\n",
      "Epoch 13/120\n",
      "230/256 [=========================>....] - ETA: 0s - loss: 1.4244 - accuracy: 0.5280\n",
      "Epoch 13: val_loss improved from 1.34000 to 1.32082, saving model to output/audio_classification_nn.h5\n",
      "256/256 [==============================] - 0s 2ms/step - loss: 1.4281 - accuracy: 0.5262 - val_loss: 1.3208 - val_accuracy: 0.5758\n",
      "Epoch 14/120\n",
      "235/256 [==========================>...] - ETA: 0s - loss: 1.4083 - accuracy: 0.5243\n",
      "Epoch 14: val_loss improved from 1.32082 to 1.24841, saving model to output/audio_classification_nn.h5\n",
      "256/256 [==============================] - 0s 2ms/step - loss: 1.4029 - accuracy: 0.5246 - val_loss: 1.2484 - val_accuracy: 0.6062\n",
      "Epoch 15/120\n",
      "248/256 [============================>.] - ETA: 0s - loss: 1.3606 - accuracy: 0.5377\n",
      "Epoch 15: val_loss improved from 1.24841 to 1.23166, saving model to output/audio_classification_nn.h5\n",
      "256/256 [==============================] - 0s 2ms/step - loss: 1.3582 - accuracy: 0.5384 - val_loss: 1.2317 - val_accuracy: 0.5924\n",
      "Epoch 16/120\n",
      "247/256 [===========================>..] - ETA: 0s - loss: 1.3225 - accuracy: 0.5598\n",
      "Epoch 16: val_loss improved from 1.23166 to 1.17370, saving model to output/audio_classification_nn.h5\n",
      "256/256 [==============================] - 0s 2ms/step - loss: 1.3212 - accuracy: 0.5598 - val_loss: 1.1737 - val_accuracy: 0.6239\n",
      "Epoch 17/120\n",
      "239/256 [===========================>..] - ETA: 0s - loss: 1.3084 - accuracy: 0.5578\n",
      "Epoch 17: val_loss improved from 1.17370 to 1.15597, saving model to output/audio_classification_nn.h5\n",
      "256/256 [==============================] - 0s 2ms/step - loss: 1.3150 - accuracy: 0.5568 - val_loss: 1.1560 - val_accuracy: 0.6451\n",
      "Epoch 18/120\n",
      "249/256 [============================>.] - ETA: 0s - loss: 1.2923 - accuracy: 0.5586\n",
      "Epoch 18: val_loss improved from 1.15597 to 1.14096, saving model to output/audio_classification_nn.h5\n",
      "256/256 [==============================] - 0s 2ms/step - loss: 1.2904 - accuracy: 0.5600 - val_loss: 1.1410 - val_accuracy: 0.6325\n",
      "Epoch 19/120\n",
      "248/256 [============================>.] - ETA: 0s - loss: 1.2650 - accuracy: 0.5786\n",
      "Epoch 19: val_loss improved from 1.14096 to 1.12051, saving model to output/audio_classification_nn.h5\n",
      "256/256 [==============================] - 0s 2ms/step - loss: 1.2664 - accuracy: 0.5774 - val_loss: 1.1205 - val_accuracy: 0.6308\n",
      "Epoch 20/120\n",
      "242/256 [===========================>..] - ETA: 0s - loss: 1.2343 - accuracy: 0.5843\n",
      "Epoch 20: val_loss improved from 1.12051 to 1.06822, saving model to output/audio_classification_nn.h5\n",
      "256/256 [==============================] - 0s 2ms/step - loss: 1.2365 - accuracy: 0.5836 - val_loss: 1.0682 - val_accuracy: 0.6537\n",
      "Epoch 21/120\n",
      "238/256 [==========================>...] - ETA: 0s - loss: 1.2307 - accuracy: 0.5934\n",
      "Epoch 21: val_loss did not improve from 1.06822\n",
      "256/256 [==============================] - 0s 2ms/step - loss: 1.2344 - accuracy: 0.5910 - val_loss: 1.0743 - val_accuracy: 0.6503\n",
      "Epoch 22/120\n",
      "252/256 [============================>.] - ETA: 0s - loss: 1.2028 - accuracy: 0.5977\n",
      "Epoch 22: val_loss improved from 1.06822 to 1.02219, saving model to output/audio_classification_nn.h5\n",
      "256/256 [==============================] - 0s 2ms/step - loss: 1.1987 - accuracy: 0.5987 - val_loss: 1.0222 - val_accuracy: 0.6806\n",
      "Epoch 23/120\n",
      "240/256 [===========================>..] - ETA: 0s - loss: 1.1617 - accuracy: 0.6096\n",
      "Epoch 23: val_loss improved from 1.02219 to 1.00402, saving model to output/audio_classification_nn.h5\n",
      "256/256 [==============================] - 0s 2ms/step - loss: 1.1661 - accuracy: 0.6097 - val_loss: 1.0040 - val_accuracy: 0.6823\n",
      "Epoch 24/120\n",
      "242/256 [===========================>..] - ETA: 0s - loss: 1.1769 - accuracy: 0.6025\n",
      "Epoch 24: val_loss improved from 1.00402 to 0.99247, saving model to output/audio_classification_nn.h5\n",
      "256/256 [==============================] - 0s 2ms/step - loss: 1.1776 - accuracy: 0.6016 - val_loss: 0.9925 - val_accuracy: 0.6754\n",
      "Epoch 25/120\n",
      "235/256 [==========================>...] - ETA: 0s - loss: 1.1394 - accuracy: 0.6134\n",
      "Epoch 25: val_loss did not improve from 0.99247\n",
      "256/256 [==============================] - 0s 2ms/step - loss: 1.1414 - accuracy: 0.6145 - val_loss: 1.0030 - val_accuracy: 0.6754\n",
      "Epoch 26/120\n",
      "227/256 [=========================>....] - ETA: 0s - loss: 1.1357 - accuracy: 0.6140\n",
      "Epoch 26: val_loss improved from 0.99247 to 0.95385, saving model to output/audio_classification_nn.h5\n",
      "256/256 [==============================] - 0s 2ms/step - loss: 1.1337 - accuracy: 0.6156 - val_loss: 0.9539 - val_accuracy: 0.6978\n",
      "Epoch 27/120\n",
      "237/256 [==========================>...] - ETA: 0s - loss: 1.1212 - accuracy: 0.6210\n",
      "Epoch 27: val_loss did not improve from 0.95385\n",
      "256/256 [==============================] - 0s 2ms/step - loss: 1.1214 - accuracy: 0.6226 - val_loss: 0.9561 - val_accuracy: 0.7115\n",
      "Epoch 28/120\n",
      "246/256 [===========================>..] - ETA: 0s - loss: 1.1146 - accuracy: 0.6288\n",
      "Epoch 28: val_loss did not improve from 0.95385\n",
      "256/256 [==============================] - 0s 2ms/step - loss: 1.1139 - accuracy: 0.6264 - val_loss: 0.9703 - val_accuracy: 0.6949\n",
      "Epoch 29/120\n",
      "242/256 [===========================>..] - ETA: 0s - loss: 1.1081 - accuracy: 0.6240\n",
      "Epoch 29: val_loss improved from 0.95385 to 0.94879, saving model to output/audio_classification_nn.h5\n",
      "256/256 [==============================] - 0s 2ms/step - loss: 1.1045 - accuracy: 0.6256 - val_loss: 0.9488 - val_accuracy: 0.7006\n",
      "Epoch 30/120\n",
      "244/256 [===========================>..] - ETA: 0s - loss: 1.0761 - accuracy: 0.6416\n",
      "Epoch 30: val_loss improved from 0.94879 to 0.90223, saving model to output/audio_classification_nn.h5\n",
      "256/256 [==============================] - 0s 2ms/step - loss: 1.0800 - accuracy: 0.6411 - val_loss: 0.9022 - val_accuracy: 0.7178\n",
      "Epoch 31/120\n",
      "239/256 [===========================>..] - ETA: 0s - loss: 1.0809 - accuracy: 0.6400\n",
      "Epoch 31: val_loss did not improve from 0.90223\n",
      "256/256 [==============================] - 0s 2ms/step - loss: 1.0812 - accuracy: 0.6391 - val_loss: 0.9046 - val_accuracy: 0.7155\n",
      "Epoch 32/120\n",
      "249/256 [============================>.] - ETA: 0s - loss: 1.0836 - accuracy: 0.6398\n",
      "Epoch 32: val_loss improved from 0.90223 to 0.89570, saving model to output/audio_classification_nn.h5\n",
      "256/256 [==============================] - 0s 2ms/step - loss: 1.0802 - accuracy: 0.6397 - val_loss: 0.8957 - val_accuracy: 0.7298\n",
      "Epoch 33/120\n",
      "233/256 [==========================>...] - ETA: 0s - loss: 1.0596 - accuracy: 0.6513\n",
      "Epoch 33: val_loss improved from 0.89570 to 0.87430, saving model to output/audio_classification_nn.h5\n",
      "256/256 [==============================] - 0s 2ms/step - loss: 1.0594 - accuracy: 0.6522 - val_loss: 0.8743 - val_accuracy: 0.7281\n",
      "Epoch 34/120\n",
      "236/256 [==========================>...] - ETA: 0s - loss: 1.0442 - accuracy: 0.6562\n",
      "Epoch 34: val_loss did not improve from 0.87430\n",
      "256/256 [==============================] - 0s 2ms/step - loss: 1.0495 - accuracy: 0.6548 - val_loss: 0.8947 - val_accuracy: 0.7247\n",
      "Epoch 35/120\n",
      "249/256 [============================>.] - ETA: 0s - loss: 1.0394 - accuracy: 0.6568\n",
      "Epoch 35: val_loss did not improve from 0.87430\n",
      "256/256 [==============================] - 0s 2ms/step - loss: 1.0423 - accuracy: 0.6560 - val_loss: 0.8885 - val_accuracy: 0.7195\n",
      "Epoch 36/120\n",
      "239/256 [===========================>..] - ETA: 0s - loss: 1.0308 - accuracy: 0.6530\n",
      "Epoch 36: val_loss improved from 0.87430 to 0.86504, saving model to output/audio_classification_nn.h5\n",
      "256/256 [==============================] - 0s 2ms/step - loss: 1.0325 - accuracy: 0.6528 - val_loss: 0.8650 - val_accuracy: 0.7270\n",
      "Epoch 37/120\n",
      "242/256 [===========================>..] - ETA: 0s - loss: 1.0373 - accuracy: 0.6604\n",
      "Epoch 37: val_loss did not improve from 0.86504\n",
      "256/256 [==============================] - 0s 2ms/step - loss: 1.0333 - accuracy: 0.6599 - val_loss: 0.8682 - val_accuracy: 0.7189\n",
      "Epoch 38/120\n",
      "241/256 [===========================>..] - ETA: 0s - loss: 1.0303 - accuracy: 0.6626\n",
      "Epoch 38: val_loss did not improve from 0.86504\n",
      "256/256 [==============================] - 0s 2ms/step - loss: 1.0304 - accuracy: 0.6630 - val_loss: 0.8673 - val_accuracy: 0.7155\n",
      "Epoch 39/120\n",
      "240/256 [===========================>..] - ETA: 0s - loss: 1.0171 - accuracy: 0.6603\n",
      "Epoch 39: val_loss improved from 0.86504 to 0.84447, saving model to output/audio_classification_nn.h5\n",
      "256/256 [==============================] - 0s 2ms/step - loss: 1.0197 - accuracy: 0.6611 - val_loss: 0.8445 - val_accuracy: 0.7464\n",
      "Epoch 40/120\n",
      "245/256 [===========================>..] - ETA: 0s - loss: 1.0005 - accuracy: 0.6704\n",
      "Epoch 40: val_loss improved from 0.84447 to 0.81338, saving model to output/audio_classification_nn.h5\n",
      "256/256 [==============================] - 0s 2ms/step - loss: 1.0041 - accuracy: 0.6699 - val_loss: 0.8134 - val_accuracy: 0.7424\n",
      "Epoch 41/120\n",
      "241/256 [===========================>..] - ETA: 0s - loss: 0.9943 - accuracy: 0.6639\n",
      "Epoch 41: val_loss did not improve from 0.81338\n",
      "256/256 [==============================] - 0s 2ms/step - loss: 0.9988 - accuracy: 0.6638 - val_loss: 0.8443 - val_accuracy: 0.7264\n",
      "Epoch 42/120\n",
      "251/256 [============================>.] - ETA: 0s - loss: 0.9825 - accuracy: 0.6713\n",
      "Epoch 42: val_loss did not improve from 0.81338\n",
      "256/256 [==============================] - 0s 2ms/step - loss: 0.9831 - accuracy: 0.6710 - val_loss: 0.8413 - val_accuracy: 0.7424\n",
      "Epoch 43/120\n",
      "238/256 [==========================>...] - ETA: 0s - loss: 0.9700 - accuracy: 0.6698\n",
      "Epoch 43: val_loss did not improve from 0.81338\n",
      "256/256 [==============================] - 0s 2ms/step - loss: 0.9784 - accuracy: 0.6683 - val_loss: 0.8262 - val_accuracy: 0.7510\n",
      "Epoch 44/120\n",
      "235/256 [==========================>...] - ETA: 0s - loss: 0.9904 - accuracy: 0.6677\n",
      "Epoch 44: val_loss improved from 0.81338 to 0.79046, saving model to output/audio_classification_nn.h5\n",
      "256/256 [==============================] - 0s 2ms/step - loss: 0.9906 - accuracy: 0.6697 - val_loss: 0.7905 - val_accuracy: 0.7493\n",
      "Epoch 45/120\n",
      "242/256 [===========================>..] - ETA: 0s - loss: 0.9732 - accuracy: 0.6807\n",
      "Epoch 45: val_loss did not improve from 0.79046\n",
      "256/256 [==============================] - 0s 2ms/step - loss: 0.9796 - accuracy: 0.6785 - val_loss: 0.8270 - val_accuracy: 0.7436\n",
      "Epoch 46/120\n",
      "244/256 [===========================>..] - ETA: 0s - loss: 0.9531 - accuracy: 0.6842\n",
      "Epoch 46: val_loss did not improve from 0.79046\n",
      "256/256 [==============================] - 0s 2ms/step - loss: 0.9548 - accuracy: 0.6829 - val_loss: 0.8143 - val_accuracy: 0.7453\n",
      "Epoch 47/120\n",
      "245/256 [===========================>..] - ETA: 0s - loss: 0.9661 - accuracy: 0.6852\n",
      "Epoch 47: val_loss did not improve from 0.79046\n",
      "256/256 [==============================] - 0s 2ms/step - loss: 0.9674 - accuracy: 0.6836 - val_loss: 0.7965 - val_accuracy: 0.7590\n",
      "Epoch 48/120\n",
      "240/256 [===========================>..] - ETA: 0s - loss: 0.9501 - accuracy: 0.6829\n",
      "Epoch 48: val_loss did not improve from 0.79046\n",
      "256/256 [==============================] - 0s 2ms/step - loss: 0.9479 - accuracy: 0.6846 - val_loss: 0.8065 - val_accuracy: 0.7487\n",
      "Epoch 49/120\n",
      "245/256 [===========================>..] - ETA: 0s - loss: 0.9308 - accuracy: 0.6864\n",
      "Epoch 49: val_loss improved from 0.79046 to 0.78542, saving model to output/audio_classification_nn.h5\n",
      "256/256 [==============================] - 0s 2ms/step - loss: 0.9311 - accuracy: 0.6866 - val_loss: 0.7854 - val_accuracy: 0.7624\n",
      "Epoch 50/120\n",
      "244/256 [===========================>..] - ETA: 0s - loss: 0.9409 - accuracy: 0.6892\n",
      "Epoch 50: val_loss improved from 0.78542 to 0.78423, saving model to output/audio_classification_nn.h5\n",
      "256/256 [==============================] - 0s 2ms/step - loss: 0.9447 - accuracy: 0.6868 - val_loss: 0.7842 - val_accuracy: 0.7705\n",
      "Epoch 51/120\n",
      "249/256 [============================>.] - ETA: 0s - loss: 0.9414 - accuracy: 0.6949\n",
      "Epoch 51: val_loss did not improve from 0.78423\n",
      "256/256 [==============================] - 0s 2ms/step - loss: 0.9440 - accuracy: 0.6945 - val_loss: 0.8112 - val_accuracy: 0.7441\n",
      "Epoch 52/120\n",
      "235/256 [==========================>...] - ETA: 0s - loss: 0.9439 - accuracy: 0.6927\n",
      "Epoch 52: val_loss improved from 0.78423 to 0.75562, saving model to output/audio_classification_nn.h5\n",
      "256/256 [==============================] - 0s 2ms/step - loss: 0.9460 - accuracy: 0.6913 - val_loss: 0.7556 - val_accuracy: 0.7779\n",
      "Epoch 53/120\n",
      "236/256 [==========================>...] - ETA: 0s - loss: 0.9231 - accuracy: 0.6886\n",
      "Epoch 53: val_loss did not improve from 0.75562\n",
      "256/256 [==============================] - 0s 2ms/step - loss: 0.9331 - accuracy: 0.6850 - val_loss: 0.8007 - val_accuracy: 0.7453\n",
      "Epoch 54/120\n",
      "250/256 [============================>.] - ETA: 0s - loss: 0.9346 - accuracy: 0.6963\n",
      "Epoch 54: val_loss did not improve from 0.75562\n",
      "256/256 [==============================] - 0s 2ms/step - loss: 0.9334 - accuracy: 0.6972 - val_loss: 0.7860 - val_accuracy: 0.7624\n",
      "Epoch 55/120\n",
      "242/256 [===========================>..] - ETA: 0s - loss: 0.9468 - accuracy: 0.6809\n",
      "Epoch 55: val_loss improved from 0.75562 to 0.74873, saving model to output/audio_classification_nn.h5\n",
      "256/256 [==============================] - 0s 2ms/step - loss: 0.9441 - accuracy: 0.6820 - val_loss: 0.7487 - val_accuracy: 0.7722\n",
      "Epoch 56/120\n",
      "248/256 [============================>.] - ETA: 0s - loss: 0.9152 - accuracy: 0.6954\n",
      "Epoch 56: val_loss improved from 0.74873 to 0.74073, saving model to output/audio_classification_nn.h5\n",
      "256/256 [==============================] - 0s 2ms/step - loss: 0.9145 - accuracy: 0.6955 - val_loss: 0.7407 - val_accuracy: 0.7687\n",
      "Epoch 57/120\n",
      "249/256 [============================>.] - ETA: 0s - loss: 0.9201 - accuracy: 0.6957\n",
      "Epoch 57: val_loss did not improve from 0.74073\n",
      "256/256 [==============================] - 0s 2ms/step - loss: 0.9195 - accuracy: 0.6952 - val_loss: 0.7723 - val_accuracy: 0.7659\n",
      "Epoch 58/120\n",
      "242/256 [===========================>..] - ETA: 0s - loss: 0.9110 - accuracy: 0.6987\n",
      "Epoch 58: val_loss did not improve from 0.74073\n",
      "256/256 [==============================] - 0s 2ms/step - loss: 0.9110 - accuracy: 0.6983 - val_loss: 0.7638 - val_accuracy: 0.7687\n",
      "Epoch 59/120\n",
      "254/256 [============================>.] - ETA: 0s - loss: 0.9235 - accuracy: 0.6972\n",
      "Epoch 59: val_loss improved from 0.74073 to 0.72654, saving model to output/audio_classification_nn.h5\n",
      "256/256 [==============================] - 0s 2ms/step - loss: 0.9210 - accuracy: 0.6982 - val_loss: 0.7265 - val_accuracy: 0.7768\n",
      "Epoch 60/120\n",
      "250/256 [============================>.] - ETA: 0s - loss: 0.9071 - accuracy: 0.6944\n",
      "Epoch 60: val_loss improved from 0.72654 to 0.71941, saving model to output/audio_classification_nn.h5\n",
      "256/256 [==============================] - 0s 2ms/step - loss: 0.9064 - accuracy: 0.6950 - val_loss: 0.7194 - val_accuracy: 0.7848\n",
      "Epoch 61/120\n",
      "243/256 [===========================>..] - ETA: 0s - loss: 0.9130 - accuracy: 0.6984\n",
      "Epoch 61: val_loss improved from 0.71941 to 0.71526, saving model to output/audio_classification_nn.h5\n",
      "256/256 [==============================] - 0s 2ms/step - loss: 0.9093 - accuracy: 0.7007 - val_loss: 0.7153 - val_accuracy: 0.7762\n",
      "Epoch 62/120\n",
      "256/256 [==============================] - ETA: 0s - loss: 0.9070 - accuracy: 0.7013\n",
      "Epoch 62: val_loss did not improve from 0.71526\n",
      "256/256 [==============================] - 0s 2ms/step - loss: 0.9070 - accuracy: 0.7013 - val_loss: 0.7652 - val_accuracy: 0.7653\n",
      "Epoch 63/120\n",
      "254/256 [============================>.] - ETA: 0s - loss: 0.9022 - accuracy: 0.7085\n",
      "Epoch 63: val_loss did not improve from 0.71526\n",
      "256/256 [==============================] - 0s 2ms/step - loss: 0.9030 - accuracy: 0.7082 - val_loss: 0.7432 - val_accuracy: 0.7682\n",
      "Epoch 64/120\n",
      "252/256 [============================>.] - ETA: 0s - loss: 0.8961 - accuracy: 0.7021\n",
      "Epoch 64: val_loss did not improve from 0.71526\n",
      "256/256 [==============================] - 0s 2ms/step - loss: 0.8964 - accuracy: 0.7020 - val_loss: 0.7428 - val_accuracy: 0.7831\n",
      "Epoch 65/120\n",
      "233/256 [==========================>...] - ETA: 0s - loss: 0.8925 - accuracy: 0.7001\n",
      "Epoch 65: val_loss did not improve from 0.71526\n",
      "256/256 [==============================] - 0s 2ms/step - loss: 0.8948 - accuracy: 0.7002 - val_loss: 0.7582 - val_accuracy: 0.7619\n",
      "Epoch 66/120\n",
      "238/256 [==========================>...] - ETA: 0s - loss: 0.9143 - accuracy: 0.7035\n",
      "Epoch 66: val_loss did not improve from 0.71526\n",
      "256/256 [==============================] - 0s 2ms/step - loss: 0.9095 - accuracy: 0.7054 - val_loss: 0.7640 - val_accuracy: 0.7624\n",
      "Epoch 67/120\n",
      "246/256 [===========================>..] - ETA: 0s - loss: 0.8946 - accuracy: 0.7046\n",
      "Epoch 67: val_loss did not improve from 0.71526\n",
      "256/256 [==============================] - 0s 2ms/step - loss: 0.9000 - accuracy: 0.7039 - val_loss: 0.7606 - val_accuracy: 0.7710\n",
      "Epoch 68/120\n",
      "250/256 [============================>.] - ETA: 0s - loss: 0.8828 - accuracy: 0.7053\n",
      "Epoch 68: val_loss did not improve from 0.71526\n",
      "256/256 [==============================] - 0s 2ms/step - loss: 0.8817 - accuracy: 0.7059 - val_loss: 0.7646 - val_accuracy: 0.7739\n",
      "Epoch 69/120\n",
      "250/256 [============================>.] - ETA: 0s - loss: 0.8880 - accuracy: 0.7030\n",
      "Epoch 69: val_loss did not improve from 0.71526\n",
      "256/256 [==============================] - 0s 2ms/step - loss: 0.8858 - accuracy: 0.7039 - val_loss: 0.7591 - val_accuracy: 0.7756\n",
      "Epoch 70/120\n",
      "224/256 [=========================>....] - ETA: 0s - loss: 0.8869 - accuracy: 0.7061\n",
      "Epoch 70: val_loss improved from 0.71526 to 0.70933, saving model to output/audio_classification_nn.h5\n",
      "256/256 [==============================] - 0s 2ms/step - loss: 0.8814 - accuracy: 0.7077 - val_loss: 0.7093 - val_accuracy: 0.7825\n",
      "Epoch 71/120\n",
      "240/256 [===========================>..] - ETA: 0s - loss: 0.8488 - accuracy: 0.7103\n",
      "Epoch 71: val_loss did not improve from 0.70933\n",
      "256/256 [==============================] - 0s 2ms/step - loss: 0.8580 - accuracy: 0.7076 - val_loss: 0.7209 - val_accuracy: 0.7802\n",
      "Epoch 72/120\n",
      "242/256 [===========================>..] - ETA: 0s - loss: 0.8809 - accuracy: 0.7042\n",
      "Epoch 72: val_loss did not improve from 0.70933\n",
      "256/256 [==============================] - 0s 2ms/step - loss: 0.8802 - accuracy: 0.7044 - val_loss: 0.7285 - val_accuracy: 0.7905\n",
      "Epoch 73/120\n",
      "255/256 [============================>.] - ETA: 0s - loss: 0.8808 - accuracy: 0.7130\n",
      "Epoch 73: val_loss did not improve from 0.70933\n",
      "256/256 [==============================] - 0s 2ms/step - loss: 0.8800 - accuracy: 0.7133 - val_loss: 0.7329 - val_accuracy: 0.7853\n",
      "Epoch 74/120\n",
      "242/256 [===========================>..] - ETA: 0s - loss: 0.8670 - accuracy: 0.7105\n",
      "Epoch 74: val_loss did not improve from 0.70933\n",
      "256/256 [==============================] - 0s 2ms/step - loss: 0.8656 - accuracy: 0.7105 - val_loss: 0.7226 - val_accuracy: 0.7710\n",
      "Epoch 75/120\n",
      "250/256 [============================>.] - ETA: 0s - loss: 0.8711 - accuracy: 0.7147\n",
      "Epoch 75: val_loss improved from 0.70933 to 0.68345, saving model to output/audio_classification_nn.h5\n",
      "256/256 [==============================] - 0s 2ms/step - loss: 0.8684 - accuracy: 0.7161 - val_loss: 0.6835 - val_accuracy: 0.7888\n",
      "Epoch 76/120\n",
      "247/256 [===========================>..] - ETA: 0s - loss: 0.8724 - accuracy: 0.7091\n",
      "Epoch 76: val_loss did not improve from 0.68345\n",
      "256/256 [==============================] - 0s 2ms/step - loss: 0.8722 - accuracy: 0.7097 - val_loss: 0.7234 - val_accuracy: 0.7813\n",
      "Epoch 77/120\n",
      "250/256 [============================>.] - ETA: 0s - loss: 0.8564 - accuracy: 0.7188\n",
      "Epoch 77: val_loss did not improve from 0.68345\n",
      "256/256 [==============================] - 0s 2ms/step - loss: 0.8553 - accuracy: 0.7198 - val_loss: 0.6921 - val_accuracy: 0.7934\n",
      "Epoch 78/120\n",
      "251/256 [============================>.] - ETA: 0s - loss: 0.8655 - accuracy: 0.7155\n",
      "Epoch 78: val_loss did not improve from 0.68345\n",
      "256/256 [==============================] - 0s 2ms/step - loss: 0.8659 - accuracy: 0.7152 - val_loss: 0.7200 - val_accuracy: 0.7745\n",
      "Epoch 79/120\n",
      "247/256 [===========================>..] - ETA: 0s - loss: 0.8451 - accuracy: 0.7120\n",
      "Epoch 79: val_loss did not improve from 0.68345\n",
      "256/256 [==============================] - 0s 2ms/step - loss: 0.8487 - accuracy: 0.7114 - val_loss: 0.6961 - val_accuracy: 0.7956\n",
      "Epoch 80/120\n",
      "240/256 [===========================>..] - ETA: 0s - loss: 0.8706 - accuracy: 0.7078\n",
      "Epoch 80: val_loss improved from 0.68345 to 0.68228, saving model to output/audio_classification_nn.h5\n",
      "256/256 [==============================] - 0s 2ms/step - loss: 0.8669 - accuracy: 0.7083 - val_loss: 0.6823 - val_accuracy: 0.7894\n",
      "Epoch 81/120\n",
      "243/256 [===========================>..] - ETA: 0s - loss: 0.8426 - accuracy: 0.7218\n",
      "Epoch 81: val_loss improved from 0.68228 to 0.67808, saving model to output/audio_classification_nn.h5\n",
      "256/256 [==============================] - 0s 2ms/step - loss: 0.8415 - accuracy: 0.7215 - val_loss: 0.6781 - val_accuracy: 0.7979\n",
      "Epoch 82/120\n",
      "246/256 [===========================>..] - ETA: 0s - loss: 0.8399 - accuracy: 0.7259\n",
      "Epoch 82: val_loss improved from 0.67808 to 0.67372, saving model to output/audio_classification_nn.h5\n",
      "256/256 [==============================] - 0s 2ms/step - loss: 0.8456 - accuracy: 0.7244 - val_loss: 0.6737 - val_accuracy: 0.7968\n",
      "Epoch 83/120\n",
      "227/256 [=========================>....] - ETA: 0s - loss: 0.8342 - accuracy: 0.7276\n",
      "Epoch 83: val_loss did not improve from 0.67372\n",
      "256/256 [==============================] - 0s 2ms/step - loss: 0.8305 - accuracy: 0.7285 - val_loss: 0.6991 - val_accuracy: 0.7882\n",
      "Epoch 84/120\n",
      "251/256 [============================>.] - ETA: 0s - loss: 0.8406 - accuracy: 0.7211\n",
      "Epoch 84: val_loss did not improve from 0.67372\n",
      "256/256 [==============================] - 0s 2ms/step - loss: 0.8417 - accuracy: 0.7208 - val_loss: 0.6955 - val_accuracy: 0.7825\n",
      "Epoch 85/120\n",
      "244/256 [===========================>..] - ETA: 0s - loss: 0.8469 - accuracy: 0.7239\n",
      "Epoch 85: val_loss did not improve from 0.67372\n",
      "256/256 [==============================] - 0s 2ms/step - loss: 0.8509 - accuracy: 0.7226 - val_loss: 0.7104 - val_accuracy: 0.7825\n",
      "Epoch 86/120\n",
      "247/256 [===========================>..] - ETA: 0s - loss: 0.8601 - accuracy: 0.7172\n",
      "Epoch 86: val_loss did not improve from 0.67372\n",
      "256/256 [==============================] - 0s 2ms/step - loss: 0.8573 - accuracy: 0.7192 - val_loss: 0.7178 - val_accuracy: 0.7865\n",
      "Epoch 87/120\n",
      "242/256 [===========================>..] - ETA: 0s - loss: 0.8410 - accuracy: 0.7235\n",
      "Epoch 87: val_loss did not improve from 0.67372\n",
      "256/256 [==============================] - 0s 2ms/step - loss: 0.8431 - accuracy: 0.7218 - val_loss: 0.6879 - val_accuracy: 0.8019\n",
      "Epoch 88/120\n",
      "245/256 [===========================>..] - ETA: 0s - loss: 0.8429 - accuracy: 0.7193\n",
      "Epoch 88: val_loss improved from 0.67372 to 0.66919, saving model to output/audio_classification_nn.h5\n",
      "256/256 [==============================] - 0s 2ms/step - loss: 0.8404 - accuracy: 0.7202 - val_loss: 0.6692 - val_accuracy: 0.8025\n",
      "Epoch 89/120\n",
      "245/256 [===========================>..] - ETA: 0s - loss: 0.8189 - accuracy: 0.7297\n",
      "Epoch 89: val_loss improved from 0.66919 to 0.65241, saving model to output/audio_classification_nn.h5\n",
      "256/256 [==============================] - 0s 2ms/step - loss: 0.8189 - accuracy: 0.7296 - val_loss: 0.6524 - val_accuracy: 0.8014\n",
      "Epoch 90/120\n",
      "245/256 [===========================>..] - ETA: 0s - loss: 0.8313 - accuracy: 0.7214\n",
      "Epoch 90: val_loss did not improve from 0.65241\n",
      "256/256 [==============================] - 0s 2ms/step - loss: 0.8304 - accuracy: 0.7211 - val_loss: 0.6833 - val_accuracy: 0.7979\n",
      "Epoch 91/120\n",
      "249/256 [============================>.] - ETA: 0s - loss: 0.8301 - accuracy: 0.7280\n",
      "Epoch 91: val_loss did not improve from 0.65241\n",
      "256/256 [==============================] - 0s 2ms/step - loss: 0.8328 - accuracy: 0.7275 - val_loss: 0.6872 - val_accuracy: 0.8042\n",
      "Epoch 92/120\n",
      "254/256 [============================>.] - ETA: 0s - loss: 0.8383 - accuracy: 0.7200\n",
      "Epoch 92: val_loss did not improve from 0.65241\n",
      "256/256 [==============================] - 0s 2ms/step - loss: 0.8383 - accuracy: 0.7200 - val_loss: 0.6981 - val_accuracy: 0.7985\n",
      "Epoch 93/120\n",
      "248/256 [============================>.] - ETA: 0s - loss: 0.8329 - accuracy: 0.7228\n",
      "Epoch 93: val_loss did not improve from 0.65241\n",
      "256/256 [==============================] - 0s 2ms/step - loss: 0.8366 - accuracy: 0.7215 - val_loss: 0.7043 - val_accuracy: 0.7871\n",
      "Epoch 94/120\n",
      "251/256 [============================>.] - ETA: 0s - loss: 0.8387 - accuracy: 0.7210\n",
      "Epoch 94: val_loss did not improve from 0.65241\n",
      "256/256 [==============================] - 0s 2ms/step - loss: 0.8397 - accuracy: 0.7203 - val_loss: 0.6756 - val_accuracy: 0.7939\n",
      "Epoch 95/120\n",
      "253/256 [============================>.] - ETA: 0s - loss: 0.8352 - accuracy: 0.7225\n",
      "Epoch 95: val_loss did not improve from 0.65241\n",
      "256/256 [==============================] - 0s 2ms/step - loss: 0.8366 - accuracy: 0.7222 - val_loss: 0.6651 - val_accuracy: 0.8025\n",
      "Epoch 96/120\n",
      "255/256 [============================>.] - ETA: 0s - loss: 0.8394 - accuracy: 0.7266\n",
      "Epoch 96: val_loss did not improve from 0.65241\n",
      "256/256 [==============================] - 0s 2ms/step - loss: 0.8385 - accuracy: 0.7270 - val_loss: 0.6808 - val_accuracy: 0.8025\n",
      "Epoch 97/120\n",
      "245/256 [===========================>..] - ETA: 0s - loss: 0.8380 - accuracy: 0.7250\n",
      "Epoch 97: val_loss did not improve from 0.65241\n",
      "256/256 [==============================] - 0s 2ms/step - loss: 0.8395 - accuracy: 0.7246 - val_loss: 0.6556 - val_accuracy: 0.8048\n",
      "Epoch 98/120\n",
      "244/256 [===========================>..] - ETA: 0s - loss: 0.8162 - accuracy: 0.7314\n",
      "Epoch 98: val_loss did not improve from 0.65241\n",
      "256/256 [==============================] - 0s 2ms/step - loss: 0.8148 - accuracy: 0.7307 - val_loss: 0.6840 - val_accuracy: 0.7894\n",
      "Epoch 99/120\n",
      "250/256 [============================>.] - ETA: 0s - loss: 0.8113 - accuracy: 0.7333\n",
      "Epoch 99: val_loss did not improve from 0.65241\n",
      "256/256 [==============================] - 0s 2ms/step - loss: 0.8114 - accuracy: 0.7334 - val_loss: 0.6669 - val_accuracy: 0.7991\n",
      "Epoch 100/120\n",
      "223/256 [=========================>....] - ETA: 0s - loss: 0.8259 - accuracy: 0.7242\n",
      "Epoch 100: val_loss did not improve from 0.65241\n",
      "256/256 [==============================] - 0s 2ms/step - loss: 0.8255 - accuracy: 0.7235 - val_loss: 0.6736 - val_accuracy: 0.7899\n",
      "Epoch 101/120\n",
      "254/256 [============================>.] - ETA: 0s - loss: 0.8240 - accuracy: 0.7298\n",
      "Epoch 101: val_loss did not improve from 0.65241\n",
      "256/256 [==============================] - 0s 2ms/step - loss: 0.8243 - accuracy: 0.7295 - val_loss: 0.6646 - val_accuracy: 0.8122\n",
      "Epoch 102/120\n",
      "246/256 [===========================>..] - ETA: 0s - loss: 0.8104 - accuracy: 0.7303\n",
      "Epoch 102: val_loss did not improve from 0.65241\n",
      "256/256 [==============================] - 0s 2ms/step - loss: 0.8091 - accuracy: 0.7311 - val_loss: 0.6583 - val_accuracy: 0.8002\n",
      "Epoch 103/120\n",
      "250/256 [============================>.] - ETA: 0s - loss: 0.8255 - accuracy: 0.7246\n",
      "Epoch 103: val_loss did not improve from 0.65241\n",
      "256/256 [==============================] - 0s 2ms/step - loss: 0.8280 - accuracy: 0.7240 - val_loss: 0.6580 - val_accuracy: 0.8065\n",
      "Epoch 104/120\n",
      "250/256 [============================>.] - ETA: 0s - loss: 0.7983 - accuracy: 0.7309\n",
      "Epoch 104: val_loss did not improve from 0.65241\n",
      "256/256 [==============================] - 0s 2ms/step - loss: 0.7981 - accuracy: 0.7307 - val_loss: 0.6728 - val_accuracy: 0.7916\n",
      "Epoch 105/120\n",
      "250/256 [============================>.] - ETA: 0s - loss: 0.8087 - accuracy: 0.7356\n",
      "Epoch 105: val_loss did not improve from 0.65241\n",
      "256/256 [==============================] - 0s 2ms/step - loss: 0.8106 - accuracy: 0.7356 - val_loss: 0.6937 - val_accuracy: 0.7813\n",
      "Epoch 106/120\n",
      "252/256 [============================>.] - ETA: 0s - loss: 0.8188 - accuracy: 0.7316\n",
      "Epoch 106: val_loss improved from 0.65241 to 0.64884, saving model to output/audio_classification_nn.h5\n",
      "256/256 [==============================] - 0s 2ms/step - loss: 0.8191 - accuracy: 0.7313 - val_loss: 0.6488 - val_accuracy: 0.8065\n",
      "Epoch 107/120\n",
      "231/256 [==========================>...] - ETA: 0s - loss: 0.8022 - accuracy: 0.7363\n",
      "Epoch 107: val_loss did not improve from 0.64884\n",
      "256/256 [==============================] - 0s 2ms/step - loss: 0.8145 - accuracy: 0.7312 - val_loss: 0.6739 - val_accuracy: 0.7945\n",
      "Epoch 108/120\n",
      "251/256 [============================>.] - ETA: 0s - loss: 0.8308 - accuracy: 0.7272\n",
      "Epoch 108: val_loss did not improve from 0.64884\n",
      "256/256 [==============================] - 0s 2ms/step - loss: 0.8291 - accuracy: 0.7278 - val_loss: 0.6641 - val_accuracy: 0.8065\n",
      "Epoch 109/120\n",
      "221/256 [========================>.....] - ETA: 0s - loss: 0.7994 - accuracy: 0.7332\n",
      "Epoch 109: val_loss improved from 0.64884 to 0.64237, saving model to output/audio_classification_nn.h5\n",
      "256/256 [==============================] - 0s 2ms/step - loss: 0.8007 - accuracy: 0.7336 - val_loss: 0.6424 - val_accuracy: 0.8071\n",
      "Epoch 110/120\n",
      "256/256 [==============================] - ETA: 0s - loss: 0.7960 - accuracy: 0.7439\n",
      "Epoch 110: val_loss did not improve from 0.64237\n",
      "256/256 [==============================] - 0s 2ms/step - loss: 0.7960 - accuracy: 0.7439 - val_loss: 0.6748 - val_accuracy: 0.8054\n",
      "Epoch 111/120\n",
      "255/256 [============================>.] - ETA: 0s - loss: 0.7966 - accuracy: 0.7357\n",
      "Epoch 111: val_loss did not improve from 0.64237\n",
      "256/256 [==============================] - 0s 2ms/step - loss: 0.7975 - accuracy: 0.7353 - val_loss: 0.6452 - val_accuracy: 0.8082\n",
      "Epoch 112/120\n",
      "223/256 [=========================>....] - ETA: 0s - loss: 0.8092 - accuracy: 0.7349\n",
      "Epoch 112: val_loss did not improve from 0.64237\n",
      "256/256 [==============================] - 0s 2ms/step - loss: 0.7993 - accuracy: 0.7363 - val_loss: 0.6518 - val_accuracy: 0.8065\n",
      "Epoch 113/120\n",
      "225/256 [=========================>....] - ETA: 0s - loss: 0.8234 - accuracy: 0.7310\n",
      "Epoch 113: val_loss did not improve from 0.64237\n",
      "256/256 [==============================] - 0s 2ms/step - loss: 0.8241 - accuracy: 0.7286 - val_loss: 0.6536 - val_accuracy: 0.8077\n",
      "Epoch 114/120\n",
      "255/256 [============================>.] - ETA: 0s - loss: 0.8071 - accuracy: 0.7385\n",
      "Epoch 114: val_loss improved from 0.64237 to 0.63543, saving model to output/audio_classification_nn.h5\n",
      "256/256 [==============================] - 0s 2ms/step - loss: 0.8070 - accuracy: 0.7385 - val_loss: 0.6354 - val_accuracy: 0.8025\n",
      "Epoch 115/120\n",
      "221/256 [========================>.....] - ETA: 0s - loss: 0.7958 - accuracy: 0.7429\n",
      "Epoch 115: val_loss improved from 0.63543 to 0.63281, saving model to output/audio_classification_nn.h5\n",
      "256/256 [==============================] - 0s 2ms/step - loss: 0.7984 - accuracy: 0.7411 - val_loss: 0.6328 - val_accuracy: 0.8197\n",
      "Epoch 116/120\n",
      "243/256 [===========================>..] - ETA: 0s - loss: 0.7956 - accuracy: 0.7378\n",
      "Epoch 116: val_loss improved from 0.63281 to 0.61514, saving model to output/audio_classification_nn.h5\n",
      "256/256 [==============================] - 0s 2ms/step - loss: 0.7903 - accuracy: 0.7394 - val_loss: 0.6151 - val_accuracy: 0.8208\n",
      "Epoch 117/120\n",
      "249/256 [============================>.] - ETA: 0s - loss: 0.7827 - accuracy: 0.7417\n",
      "Epoch 117: val_loss did not improve from 0.61514\n",
      "256/256 [==============================] - 0s 2ms/step - loss: 0.7785 - accuracy: 0.7421 - val_loss: 0.6290 - val_accuracy: 0.8122\n",
      "Epoch 118/120\n",
      "255/256 [============================>.] - ETA: 0s - loss: 0.7957 - accuracy: 0.7355\n",
      "Epoch 118: val_loss did not improve from 0.61514\n",
      "256/256 [==============================] - 0s 2ms/step - loss: 0.7958 - accuracy: 0.7356 - val_loss: 0.6492 - val_accuracy: 0.8088\n",
      "Epoch 119/120\n",
      "223/256 [=========================>....] - ETA: 0s - loss: 0.8299 - accuracy: 0.7302\n",
      "Epoch 119: val_loss did not improve from 0.61514\n",
      "256/256 [==============================] - 0s 2ms/step - loss: 0.8289 - accuracy: 0.7313 - val_loss: 0.6411 - val_accuracy: 0.8077\n",
      "Epoch 120/120\n",
      "235/256 [==========================>...] - ETA: 0s - loss: 0.7879 - accuracy: 0.7408\n",
      "Epoch 120: val_loss did not improve from 0.61514\n",
      "256/256 [==============================] - 0s 2ms/step - loss: 0.7907 - accuracy: 0.7400 - val_loss: 0.6478 - val_accuracy: 0.8105\n",
      "Training completed in time:  0:00:52.405992\n"
     ]
    }
   ],
   "source": [
    "## Trianing the neural network model model\n",
    "# We generally chosse number of epochs as number of features * 3 \n",
    "num_epochs = 120\n",
    "num_batch_size = 32\n",
    "# saving the model checkpoint to local folder\n",
    "checkpointer = ModelCheckpoint(filepath='output/audio_classification_nn.h5', \n",
    "                               verbose=1, save_best_only=True)\n",
    "\n",
    "start = datetime.now()\n",
    "\n",
    "#Train the model\n",
    "history = model.fit(X_train_resampled, y_train_resampled, batch_size=num_batch_size, epochs=num_epochs, validation_data=(X_test, y_test), callbacks=[checkpointer], verbose=1)\n",
    "\n",
    "duration = datetime.now() - start\n",
    "print(\"Training completed in time: \", duration)"
   ]
  },
  {
   "cell_type": "markdown",
   "metadata": {},
   "source": [
    "The output shows the validation loss and accuracy achieved during the training of the model.\n",
    "The value of validation loss is 0.6478 and the value of validation accuracy is 0.8105.\n",
    "These values indicate that the model is performing well on the validation data.\n",
    "\n",
    "val_loss: 0.6478 - val_accuracy: 0.8105\n",
    "Training completed in time: 0:00:51.393119"
   ]
  },
  {
   "cell_type": "code",
   "execution_count": 126,
   "metadata": {},
   "outputs": [
    {
     "data": {
      "image/png": "[encoded data removed]",
      "text/plain": [
       "<Figure size 432x288 with 1 Axes>"
      ]
     },
     "metadata": {
      "needs_background": "light"
     },
     "output_type": "display_data"
    },
    {
     "data": {
      "image/png": "[encoded data removed]",
      "text/plain": [
       "<Figure size 432x288 with 1 Axes>"
      ]
     },
     "metadata": {
      "needs_background": "light"
     },
     "output_type": "display_data"
    }
   ],
   "source": [
    "# summarize history for accuracy\n",
    "plt.plot(history.history['accuracy'])\n",
    "plt.plot(history.history['val_accuracy'])\n",
    "plt.title('model accuracy')\n",
    "plt.ylabel('accuracy')\n",
    "plt.xlabel('epoch')\n",
    "plt.legend(['train', 'test'], loc='upper left')\n",
    "plt.show()\n",
    "# summarize history for loss\n",
    "plt.plot(history.history['loss'])\n",
    "plt.plot(history.history['val_loss'])\n",
    "plt.title('model loss')\n",
    "plt.ylabel('loss')\n",
    "plt.xlabel('epoch')\n",
    "plt.legend(['train', 'test'], loc='upper left')\n",
    "plt.show()"
   ]
  },
  {
   "cell_type": "code",
   "execution_count": 127,
   "metadata": {},
   "outputs": [
    {
     "name": "stdout",
     "output_type": "stream",
     "text": [
      "55/55 [==============================] - 0s 666us/step\n"
     ]
    }
   ],
   "source": [
    "#confusion matrix\n",
    "cf_nn = confusion_matrix(np.argmax(y_test,axis=1), np.argmax(model.predict(X_test),axis=1))"
   ]
  },
  {
   "cell_type": "code",
   "execution_count": 128,
   "metadata": {},
   "outputs": [
    {
     "data": {
      "text/plain": [
       "array([[180,   0,   4,   0,   0,   0,   0,   1,   0,  10],\n",
       "       [  1,  74,   0,   2,   3,   1,   0,   2,   0,   8],\n",
       "       [ 11,   1, 144,   4,   0,   3,  15,   1,   2,  24],\n",
       "       [  7,   1,   9, 122,   6,   1,  20,   1,   2,  13],\n",
       "       [  1,   0,   4,   4, 164,   0,   1,  17,   0,  11],\n",
       "       [  6,   1,   7,   0,   0, 189,   2,   0,   2,   9],\n",
       "       [  5,   1,   2,   5,   1,   0,  70,   1,   0,   2],\n",
       "       [  4,   1,   0,   0,   2,   0,   0, 171,   0,   9],\n",
       "       [  3,   0,   8,   9,   3,   1,   2,   0, 171,   2],\n",
       "       [ 11,   1,  20,   3,   3,   6,   2,   6,   0, 131]])"
      ]
     },
     "execution_count": 128,
     "metadata": {},
     "output_type": "execute_result"
    }
   ],
   "source": [
    "cf_nn"
   ]
  },
  {
   "cell_type": "markdown",
   "metadata": {},
   "source": [
    "The output of the neural network shows the confusion matrix for a multi-class classification problem with 10 classes. The diagonal elements of the matrix represent the correctly classified instances for each class, while the off-diagonal elements represent the misclassified instances.\n",
    "\n",
    "Looking at the diagonal elements, we can see that the neural network performs well on some classes (e.g. classes 1, 4, 5, and 8) with high numbers of correctly classified instances, while it performs less well on other classes (e.g. classes 0, 2, and 9) with lower numbers of correctly classified instances.\n",
    "\n",
    "The precision, recall, and F1 score metrics for the neural network are not provided in this output, so we cannot make any conclusions about the overall performance of the model based on this confusion matrix alone. However, we can see that the model is able to correctly classify the majority of instances for some classes, while it struggles with others."
   ]
  },
  {
   "cell_type": "code",
   "execution_count": 129,
   "metadata": {},
   "outputs": [],
   "source": [
    "#calculating metrics from the confusion matrix\n",
    "FP_NN = cf_nn.sum(axis=0) - np.diag(cf_nn) \n",
    "FN_NN = cf_nn.sum(axis=1) - np.diag(cf_nn)\n",
    "TP_NN = np.diag(cf_nn)\n",
    "TN_NN = cf_nn.sum() - (FP_NN + FN_NN + TP_NN)\n",
    "FP_NN = FP_NN.astype(float)\n",
    "FN_NN = FN_NN.astype(float)\n",
    "TP_NN = TP_NN.astype(float)\n",
    "TN_NN = TN_NN.astype(float)\n",
    "# Sensitivity, hit rate, recall, or true positive rate\n",
    "TPR_NN = TP_NN/(TP_NN+FN_NN)\n",
    "# Specificity or true negative rate\n",
    "TNR_NN = TN_NN/(TN_NN+FP_NN) \n",
    "# Precision or positive predictive value\n",
    "PPV_NN = TP_NN/(TP_NN+FP_NN)\n",
    "# Negative predictive value\n",
    "NPV_NN = TN_NN/(TN_NN+FN_NN)\n",
    "# Fall out or false positive rate\n",
    "FPR_NN = FP_NN/(FP_NN+TN_NN)\n",
    "# False negative rate\n",
    "FNR_NN = FN_NN/(TP_NN+FN_NN)\n",
    "# False discovery rate\n",
    "FDR_NN = FP_NN/(TP_NN+FP_NN)\n",
    "# Overall accuracy for each class\n",
    "ACC_NN = (TP_NN+TN_NN)/(TP_NN+FP_NN+FN_NN+TN_NN)"
   ]
  },
  {
   "cell_type": "code",
   "execution_count": 130,
   "metadata": {},
   "outputs": [
    {
     "name": "stdout",
     "output_type": "stream",
     "text": [
      "Sensitivity for all 10 classes [0.92307692 0.81318681 0.70243902 0.67032967 0.81188119 0.875\n",
      " 0.8045977  0.9144385  0.85929648 0.71584699]\n"
     ]
    }
   ],
   "source": [
    "#Sensitivity of the neural network model for all 10 classes\n",
    "print(\"Sensitivity for all 10 classes\", TPR_NN)"
   ]
  },
  {
   "cell_type": "markdown",
   "metadata": {},
   "source": [
    "The output shows the sensitivity (recall) for all 10 classes in the neural network model. The sensitivity is a measure of how well the model correctly identifies true positives for each class, and it ranges from 0 to 1, with higher values indicating better performance.\n",
    "\n",
    "The sensitivity values for the neural network model are relatively high, ranging from 0.702 to 0.914, with an average of 0.801. This suggests that the model is performing well in correctly identifying positive instances for each class. However, it's worth noting that the sensitivity for some classes is lower than others, indicating that the model may be more effective at identifying some classes than others."
   ]
  },
  {
   "cell_type": "code",
   "execution_count": 131,
   "metadata": {},
   "outputs": [
    {
     "name": "stdout",
     "output_type": "stream",
     "text": [
      "Specificity for all 10 classes [0.96842784 0.99637681 0.96498054 0.9827476  0.98834951 0.99216199\n",
      " 0.9746988  0.98141026 0.99612403 0.94373402]\n"
     ]
    }
   ],
   "source": [
    "#Specificity of the neural network model for all 10 classes\n",
    "print(\"Specificity for all 10 classes\", TNR_NN)"
   ]
  },
  {
   "cell_type": "markdown",
   "metadata": {},
   "source": [
    "The output shows the specificity values for all 10 classes predicted by the neural network. Specificity is a measure of the proportion of actual negatives that are correctly identified as negatives. The values range from 0.943 to 0.996, indicating that the model is good at correctly identifying negative cases for all classes. A high specificity value means that the model is not incorrectly labeling negatives as positives. Overall, these results suggest that the neural network has performed well in classifying the audio files."
   ]
  },
  {
   "cell_type": "code",
   "execution_count": 132,
   "metadata": {},
   "outputs": [
    {
     "name": "stdout",
     "output_type": "stream",
     "text": [
      "55/55 [==============================] - 0s 569us/step\n",
      "              precision    recall  f1-score   support\n",
      "\n",
      "           0       0.79      0.92      0.85       195\n",
      "           1       0.93      0.81      0.87        91\n",
      "           2       0.73      0.70      0.71       205\n",
      "           3       0.82      0.67      0.74       182\n",
      "           4       0.90      0.81      0.85       202\n",
      "           5       0.94      0.88      0.91       216\n",
      "           6       0.62      0.80      0.70        87\n",
      "           7       0.85      0.91      0.88       187\n",
      "           8       0.97      0.86      0.91       199\n",
      "           9       0.60      0.72      0.65       183\n",
      "\n",
      "    accuracy                           0.81      1747\n",
      "   macro avg       0.81      0.81      0.81      1747\n",
      "weighted avg       0.82      0.81      0.81      1747\n",
      "\n",
      "55/55 [==============================] - 0s 604us/step\n"
     ]
    }
   ],
   "source": [
    "#classification report summary\n",
    "print(classification_report(np.argmax(y_test,axis=1), np.argmax(model.predict(X_test),axis=1)))\n",
    "\n",
    "#saving the model metrics to a dictionary\n",
    "report_nn = classification_report(np.argmax(y_test,axis=1), np.argmax(model.predict(X_test),axis=1), output_dict=True)\n",
    "metrics_nn = {\"accuraccy\":report_nn[\"accuracy\"]} \n",
    "metrics_nn.update(report_nn[\"weighted avg\"])"
   ]
  },
  {
   "cell_type": "markdown",
   "metadata": {},
   "source": [
    "The output shows the precision, recall, and F1-score metrics for each class (0-9) as well as the overall accuracy, macro-averaged and weighted-averaged F1-score. It can be seen that the model performed relatively well on some classes such as class 1, 4, 5, 7, and 8 with high precision, recall, and F1-score. However, it did not perform well on some other classes such as class 3 and 9 with relatively low precision, recall, and F1-score. The overall accuracy is 0.79 which indicates that the model classified around 79% of the samples correctly.\n",
    "\n",
    "\n",
    "\n"
   ]
  },
  {
   "cell_type": "code",
   "execution_count": 133,
   "metadata": {},
   "outputs": [
    {
     "data": {
      "text/plain": [
       "{'accuraccy': 0.8105323411562679,\n",
       " 'precision': 0.822362678211857,\n",
       " 'recall': 0.8105323411562679,\n",
       " 'f1-score': 0.8128601614940277,\n",
       " 'support': 1747}"
      ]
     },
     "execution_count": 133,
     "metadata": {},
     "output_type": "execute_result"
    }
   ],
   "source": [
    "metrics_nn"
   ]
  },
  {
   "cell_type": "markdown",
   "metadata": {},
   "source": [
    "The output of the neural network classification model shows the evaluation metrics such as accuracy, precision, recall, f1-score, and support. The accuracy of the model is 0.81, which means that the model correctly classified 81% of the instances. The precision of the model is 0.82, which means that out of all the instances predicted positive by the model, 82% were actually positive. The recall of the model is also 0.81, which means that out of all the actual positive instances, 81% were correctly identified by the model. The f1-score of the model is 0.81, which is the harmonic mean of the precision and recall. The support of the model is 1747, which is the total number of instances in the test set. Overall, the neural network model seems to perform well with good accuracy, precision, recall, and f1-score."
   ]
  },
  {
   "cell_type": "code",
   "execution_count": 77,
   "metadata": {},
   "outputs": [
    {
     "name": "stdout",
     "output_type": "stream",
     "text": [
      "55/55 [==============================] - 0s 587us/step\n",
      "55/55 [==============================] - 0s 569us/step\n",
      "55/55 [==============================] - 0s 583us/step\n",
      "55/55 [==============================] - 0s 561us/step\n",
      "55/55 [==============================] - 0s 566us/step\n",
      "55/55 [==============================] - 0s 597us/step\n",
      "55/55 [==============================] - 0s 596us/step\n",
      "55/55 [==============================] - 0s 571us/step\n",
      "55/55 [==============================] - 0s 573us/step\n",
      "55/55 [==============================] - 0s 634us/step\n"
     ]
    },
    {
     "data": {
      "image/png": "[encoded data removed]",
      "text/plain": [
       "<Figure size 432x288 with 1 Axes>"
      ]
     },
     "metadata": {
      "needs_background": "light"
     },
     "output_type": "display_data"
    }
   ],
   "source": [
    "#Plotting ROC curve for Neural Network Model\n",
    "\n",
    "lw = 1\n",
    "n_classes = num_labels\n",
    "fpr = dict()\n",
    "tpr = dict()\n",
    "roc_auc = dict()\n",
    "for i in range(n_classes):\n",
    "    fpr[i], tpr[i], _ = roc_curve(y_test[:,i], model.predict(X_test)[:,i])\n",
    "    roc_auc[i] = auc(fpr[i], tpr[i])\n",
    "colors = cycle(['blue', 'red', 'green'])\n",
    "for i, color in zip(range(n_classes), colors):\n",
    "    plt.plot(fpr[i], tpr[i], color=color, lw=lw,\n",
    "             label='ROC curve of class {0} (area = {1:0.2f})'\n",
    "             ''.format(i, roc_auc[i]))\n",
    "    \n",
    "plt.plot([0, 1], [0, 1], 'k--', lw=lw)\n",
    "plt.xlim([-0.05, 1.0])\n",
    "plt.ylim([0.0, 1.05])\n",
    "plt.xlabel('False Positive Rate')\n",
    "plt.ylabel('True Positive Rate')\n",
    "plt.title('Receiver operating characteristic for multi-class data for neural network model')\n",
    "plt.legend(loc=\"lower right\")\n",
    "plt.show()"
   ]
  },
  {
   "cell_type": "markdown",
   "metadata": {},
   "source": [
    "Graph shows ROC (Receiver Operating Characteristic) curves for each of the 10 classes in a multi-class classification problem. The area under the curve (AUC) for each class is also provided, which ranges from 0 to 1 and represents the performance of the model in distinguishing between positive and negative classes for that particular class. A higher AUC indicates better performance, with an AUC of 1 indicating perfect classification. Overall, the c model has good performance, with most classes having an AUC greater than 0.95.\n",
    "\n",
    "\n",
    "* Class 0: The ROC curve has an area of 0.99, indicating high accuracy in predicting positive instances for this class.\n",
    "* Class 1: The ROC curve has an area of 0.97, indicating good accuracy in predicting positive instances for this class.\n",
    "* Class 2: The ROC curve has an area of 0.96, indicating decent accuracy in predicting positive instances for this class.\n",
    "* Class 3: The ROC curve has an area of 0.97, indicating good accuracy in predicting positive instances for this class.\n",
    "* Class 4: The ROC curve has an area of 0.99, indicating high accuracy in predicting positive instances for this class.\n",
    "* Class 5: The ROC curve has an area of 0.99, indicating high accuracy in predicting positive instances for this class.\n",
    "* Class 6: The ROC curve has an area of 0.96, indicating decent accuracy in predicting positive instances for this class.\n",
    "* Class 7: The ROC curve has an area of 1.00, indicating perfect accuracy in predicting positive instances for this class.\n",
    "* Class 8: The ROC curve has an area of 0.99, indicating high accuracy in predicting positive instances for this class.\n",
    "* Class 9: The ROC curve has an area of 0.96, indicating decent accuracy in predicting positive instances for this class."
   ]
  },
  {
   "cell_type": "markdown",
   "metadata": {},
   "source": [
    "#### The Neural Network model has a validation accuraccy of 83.74%"
   ]
  },
  {
   "cell_type": "markdown",
   "metadata": {},
   "source": [
    "## 2) Random Forest Model"
   ]
  },
  {
   "cell_type": "markdown",
   "metadata": {},
   "source": [
    "Random forest is a popular machine learning algorithm used for classification tasks. It is an ensemble learning method that builds multiple decision trees and combines their predictions to make a final decision. In the context of audio classification, a random forest model can be trained on a dataset of audio files with their corresponding class labels."
   ]
  },
  {
   "cell_type": "code",
   "execution_count": 78,
   "metadata": {},
   "outputs": [
    {
     "data": {
      "text/plain": [
       "RandomForestClassifier(n_jobs=-1)"
      ]
     },
     "execution_count": 78,
     "metadata": {},
     "output_type": "execute_result"
    }
   ],
   "source": [
    "#training a random forest model\n",
    "# n_jobs : integer, optional (default=1) The number of jobs to run in parallel for both fit and predict.\n",
    "# If -1, then the number of jobs is set to the number of cores of the cpu\n",
    "\n",
    "rf = RandomForestClassifier(n_jobs=-1)\n",
    "rf.fit(X_train_resampled, y_train_resampled)\n",
    "\n"
   ]
  },
  {
   "cell_type": "code",
   "execution_count": 79,
   "metadata": {},
   "outputs": [
    {
     "data": {
      "text/plain": [
       "0.659988551803091"
      ]
     },
     "execution_count": 79,
     "metadata": {},
     "output_type": "execute_result"
    }
   ],
   "source": [
    "#Random forest model accuraccy\n",
    "accuracy_score(y_test, rf.predict(X_test))"
   ]
  },
  {
   "cell_type": "code",
   "execution_count": 80,
   "metadata": {},
   "outputs": [],
   "source": [
    "#confusion matrix\n",
    "cf_rf = confusion_matrix(np.argmax(y_test,axis=1), np.argmax(rf.predict(X_test),axis=1))"
   ]
  },
  {
   "cell_type": "code",
   "execution_count": 81,
   "metadata": {},
   "outputs": [
    {
     "data": {
      "text/plain": [
       "array([[195,   0,   0,   0,   0,   0,   0,   0,   0,   0],\n",
       "       [ 28,  63,   0,   0,   0,   0,   0,   0,   0,   0],\n",
       "       [113,   0,  88,   0,   0,   0,   0,   0,   0,   4],\n",
       "       [ 95,   0,   0,  87,   0,   0,   0,   0,   0,   0],\n",
       "       [ 51,   0,   0,   0, 147,   0,   0,   4,   0,   0],\n",
       "       [ 30,   0,   0,   0,   0, 186,   0,   0,   0,   0],\n",
       "       [ 27,   0,   0,   0,   0,   0,  60,   0,   0,   0],\n",
       "       [ 38,   0,   0,   0,   2,   0,   0, 146,   0,   1],\n",
       "       [ 42,   0,   0,   0,   0,   0,   0,   0, 157,   0],\n",
       "       [128,   0,   0,   1,   1,   0,   0,   1,   0,  52]])"
      ]
     },
     "execution_count": 81,
     "metadata": {},
     "output_type": "execute_result"
    }
   ],
   "source": [
    "cf_rf"
   ]
  },
  {
   "cell_type": "markdown",
   "metadata": {},
   "source": [
    "In the given confusion matrix for the random forest model, the rows represent the true class labels, while the columns represent the predicted class labels. The diagonal elements represent the number of correctly classified samples for each class, while the off-diagonal elements represent the misclassified samples.\n",
    "\n",
    "Based on the confusion matrix, we can see that the random forest model performs well for classes 0, 4, 5, 7, 8, and 9, with no misclassifications. However, it has some misclassifications for classes 1, 2, 3, and 6. For example, for class 1, there are 29 samples that were classified as class 0, and 62 samples that were correctly classified as class 1. Similarly, for class 2, there are 111 samples that were classified as class 0, and 91 samples that were correctly classified as class 2.\n",
    "\n",
    "Overall, the confusion matrix provides a useful summary of the performance of the random forest model on the test data, and can be used to identify which classes are being misclassified, and to evaluate the overall accuracy of the model."
   ]
  },
  {
   "cell_type": "code",
   "execution_count": 82,
   "metadata": {},
   "outputs": [],
   "source": [
    "#calculating metrics from the confusion matrix\n",
    "FP_RF = cf_rf.sum(axis=0) - np.diag(cf_rf) \n",
    "FN_RF = cf_rf.sum(axis=1) - np.diag(cf_rf)\n",
    "TP_RF = np.diag(cf_rf)\n",
    "TN_RF = cf_rf.sum() - (FP_RF + FN_RF + TP_RF)\n",
    "FP_RF = FP_RF.astype(float)\n",
    "FN_RF = FN_RF.astype(float)\n",
    "TP_RF = TP_RF.astype(float)\n",
    "TN_RF = TN_RF.astype(float)\n",
    "# Sensitivity, hit rate, recall, or true positive rate\n",
    "TPR_RF = TP_RF/(TP_RF+FN_RF)\n",
    "# Specificity or true negative rate\n",
    "TNR_RF = TN_RF/(TN_RF+FP_RF) \n",
    "# Precision or positive predictive value\n",
    "PPV_RF = TP_RF/(TP_RF+FP_RF)\n",
    "# Negative predictive value\n",
    "NPV_RF = TN_RF/(TN_RF+FN_RF)\n",
    "# Fall out or false positive rate\n",
    "FPR_RF = FP_RF/(FP_RF+TN_RF)\n",
    "# False negative rate\n",
    "FNR_RF = FN_RF/(TP_RF+FN_RF)\n",
    "# False discovery rate\n",
    "FDR_RF = FP_RF/(TP_RF+FP_RF)\n",
    "# Overall accuracy for each class\n",
    "ACC_RF = (TP_RF+TN_RF)/(TP_RF+FP_RF+FN_RF+TN_RF)"
   ]
  },
  {
   "cell_type": "code",
   "execution_count": 83,
   "metadata": {},
   "outputs": [
    {
     "name": "stdout",
     "output_type": "stream",
     "text": [
      "Sensitivity for all 10 classes [1.         0.69230769 0.42926829 0.47802198 0.72772277 0.86111111\n",
      " 0.68965517 0.78074866 0.78894472 0.28415301]\n"
     ]
    }
   ],
   "source": [
    "#Sensitivity of the random forest model for all 10 classes\n",
    "print(\"Sensitivity for all 10 classes\", TPR_RF)"
   ]
  },
  {
   "cell_type": "markdown",
   "metadata": {},
   "source": [
    "However, looking at the sensitivity (recall) for each class, it can be seen that the model performs very well for some classes (class 0, 5, 7, and 8 with sensitivity of over 0.8) but not so well for others (class 1 and 9 with sensitivity of around 0.68 and 0.26, respectively).\n",
    "\n",
    "This suggests that the model is better at predicting some classes than others, and there might be room for improvement. It would be useful to investigate the misclassified samples in each class and try to understand why the model struggled with those particular examples. Additionally, further hyperparameter tuning or trying different models could also potentially improve the overall performance of the model."
   ]
  },
  {
   "cell_type": "code",
   "execution_count": 84,
   "metadata": {},
   "outputs": [
    {
     "name": "stdout",
     "output_type": "stream",
     "text": [
      "Specificity for all 10 classes [0.6443299  1.         1.         0.99936102 0.99805825 1.\n",
      " 1.         0.99679487 1.         0.99680307]\n"
     ]
    }
   ],
   "source": [
    "#Specificity of the random forest model for all 10 classes\n",
    "print(\"Specificity for all 10 classes\", TNR_RF)"
   ]
  },
  {
   "cell_type": "markdown",
   "metadata": {},
   "source": [
    "specificity values for some classes are very high, close to 1.0, indicating that the model is very good at correctly identifying negative samples for these classes. However, for some other classes, the specificity values are relatively lower, indicating that the model may not be as good at identifying true negatives for these classes.\n",
    "\n"
   ]
  },
  {
   "cell_type": "code",
   "execution_count": 85,
   "metadata": {},
   "outputs": [
    {
     "name": "stdout",
     "output_type": "stream",
     "text": [
      "              precision    recall  f1-score   support\n",
      "\n",
      "           0       0.26      1.00      0.41       195\n",
      "           1       1.00      0.69      0.82        91\n",
      "           2       1.00      0.43      0.60       205\n",
      "           3       0.99      0.48      0.64       182\n",
      "           4       0.98      0.73      0.84       202\n",
      "           5       1.00      0.86      0.93       216\n",
      "           6       1.00      0.69      0.82        87\n",
      "           7       0.97      0.78      0.86       187\n",
      "           8       1.00      0.79      0.88       199\n",
      "           9       0.91      0.28      0.43       183\n",
      "\n",
      "    accuracy                           0.68      1747\n",
      "   macro avg       0.91      0.67      0.72      1747\n",
      "weighted avg       0.90      0.68      0.72      1747\n",
      "\n"
     ]
    }
   ],
   "source": [
    "#random forest model classification report\n",
    "print(classification_report(np.argmax(y_test,axis=1), np.argmax(rf.predict(X_test),axis=1)))\n",
    "report_rf = classification_report(np.argmax(y_test,axis=1), np.argmax(rf.predict(X_test),axis=1), output_dict=True)\n",
    "metrics_rf = {\"accuraccy\":report_rf[\"accuracy\"]} \n",
    "metrics_rf.update(report_rf[\"weighted avg\"])"
   ]
  },
  {
   "cell_type": "markdown",
   "metadata": {},
   "source": [
    "This is the classification report for a multi-class random forest model, which shows the precision, recall, and F1-score for each class, as well as the weighted average for all classes.\n",
    "\n",
    "Looking at the report, it appears that the model has high precision for most classes, with scores ranging from 0.92 to 1.00. However, the recall scores are more variable, ranging from 0.26 to 1.00. This means that the model is better at correctly identifying some classes than others.\n",
    "\n",
    "The weighted average F1-score is 0.72, which suggests that the overall performance of the model is decent but could be improved. It's also worth noting that the accuracy of the model is 0.68, which is lower than the F1-score and suggests that the model is struggling with some classes.\n",
    "\n",
    "Overall, this report provides a useful summary of the model's performance and can be used to identify areas for improvement."
   ]
  },
  {
   "cell_type": "code",
   "execution_count": 86,
   "metadata": {},
   "outputs": [
    {
     "data": {
      "text/plain": [
       "{'accuraccy': 0.6760160274756726,\n",
       " 'precision': 0.9012883503609443,\n",
       " 'recall': 0.6760160274756726,\n",
       " 'f1-score': 0.7164313292488164,\n",
       " 'support': 1747}"
      ]
     },
     "execution_count": 86,
     "metadata": {},
     "output_type": "execute_result"
    }
   ],
   "source": [
    "metrics_rf"
   ]
  },
  {
   "cell_type": "code",
   "execution_count": 55,
   "metadata": {},
   "outputs": [
    {
     "data": {
      "image/png": "[encoded data removed]",
      "text/plain": [
       "<Figure size 640x480 with 1 Axes>"
      ]
     },
     "metadata": {},
     "output_type": "display_data"
    }
   ],
   "source": [
    "#Random forest model ROC curve for all 9 classes\n",
    "\n",
    "lw = 1\n",
    "classifier = OneVsRestClassifier(RandomForestClassifier(n_jobs=-1))\n",
    "y_score = classifier.fit(X_train, y_train).predict_proba(X_test)\n",
    "\n",
    "n_classes = num_labels\n",
    "fpr = dict()\n",
    "tpr = dict()\n",
    "roc_auc = dict()\n",
    "for i in range(n_classes):\n",
    "    fpr[i], tpr[i], _ = roc_curve(y_test[:, i], y_score[:, i])\n",
    "    roc_auc[i] = auc(fpr[i], tpr[i])\n",
    "colors = cycle(['blue', 'red', 'green'])\n",
    "for i, color in zip(range(n_classes), colors):\n",
    "    plt.plot(fpr[i], tpr[i], color=color, lw=lw,\n",
    "             label='ROC curve of class {0} (area = {1:0.2f})'\n",
    "             ''.format(i, roc_auc[i]))\n",
    "\n",
    "plt.plot([0, 1], [0, 1], 'k--', lw=lw)\n",
    "plt.xlim([-0.05, 1.0])\n",
    "plt.ylim([0.0, 1.05])\n",
    "plt.xlabel('False Positive Rate')\n",
    "plt.ylabel('True Positive Rate')\n",
    "plt.title('Receiver operating characteristic for multi-class data for random forest model')\n",
    "plt.legend(loc=\"lower right\")\n",
    "plt.show()\n"
   ]
  },
  {
   "cell_type": "markdown",
   "metadata": {},
   "source": [
    "#### The Random Forest model has a validation accuraccy of 67.6%"
   ]
  },
  {
   "cell_type": "markdown",
   "metadata": {},
   "source": [
    "## 3) Logistic Regression Model"
   ]
  },
  {
   "cell_type": "markdown",
   "metadata": {},
   "source": [
    "Logistic regression is a machine learning algorithm used for binary classification problems. However, it can be extended to handle multiclass classification problems using a one-vs-rest approach. In the context of audio classification, logistic regression can be used to predict the probability that an audio sample belongs to a certain class."
   ]
  },
  {
   "cell_type": "code",
   "execution_count": 87,
   "metadata": {},
   "outputs": [
    {
     "data": {
      "text/plain": [
       "LogisticRegression(max_iter=10000)"
      ]
     },
     "execution_count": 87,
     "metadata": {},
     "output_type": "execute_result"
    }
   ],
   "source": [
    "#Create a logistic regression Classifier\n",
    "#We have taken the parameters ‘solver’ as lbfgs because it is good in\n",
    "# handling the multinomial loss and ‘multi_class’ as auto which \n",
    "#automatically selects between ovr(one-vs-rest) and multinomial\n",
    "\n",
    "clf = LogisticRegression(solver = 'lbfgs',multi_class='auto',max_iter=10000)\n",
    "\n",
    "clf.fit(X_train_resampled, y_train_resampled.argmax(axis=1))"
   ]
  },
  {
   "cell_type": "code",
   "execution_count": 88,
   "metadata": {},
   "outputs": [
    {
     "data": {
      "text/plain": [
       "0.5455065827132227"
      ]
     },
     "execution_count": 88,
     "metadata": {},
     "output_type": "execute_result"
    }
   ],
   "source": [
    "#logistic regression model accuraccy\n",
    "accuracy_score(y_test.argmax(axis=1), clf.predict(X_test))"
   ]
  },
  {
   "cell_type": "code",
   "execution_count": 89,
   "metadata": {},
   "outputs": [],
   "source": [
    "#confusion matrix\n",
    "cf_lg = confusion_matrix(y_test.argmax(axis=1), clf.predict(X_test))"
   ]
  },
  {
   "cell_type": "code",
   "execution_count": 90,
   "metadata": {},
   "outputs": [
    {
     "data": {
      "text/plain": [
       "array([[ 78,   7,   9,   3,   2,  25,   8,  25,   7,  31],\n",
       "       [  2,  68,   6,   2,   2,   3,   0,   5,   0,   3],\n",
       "       [ 13,   3, 102,  11,  18,  18,  16,   3,   2,  19],\n",
       "       [ 11,   0,  13, 100,   9,  11,  16,   0,  12,  10],\n",
       "       [  6,   1,  12,   6, 121,   9,   8,  27,   3,   9],\n",
       "       [ 37,   3,  10,   4,  15, 111,   9,   6,  15,   6],\n",
       "       [  1,   1,   0,  25,   6,   3,  31,   7,   0,  13],\n",
       "       [ 18,   1,   1,   0,  18,   6,   0, 128,   4,  11],\n",
       "       [ 11,   5,   9,   6,   1,  12,   4,   3, 145,   3],\n",
       "       [ 21,   6,  25,   3,  14,  13,  15,  14,   3,  69]])"
      ]
     },
     "execution_count": 90,
     "metadata": {},
     "output_type": "execute_result"
    }
   ],
   "source": [
    "cf_lg"
   ]
  },
  {
   "cell_type": "markdown",
   "metadata": {},
   "source": [
    "The confusion matrix shows the performance of the logistic regression model on the test set. Each row of the matrix represents the true class, while each column represents the predicted class. The diagonal elements represent the number of samples that were correctly classified for each class, while off-diagonal elements represent misclassifications.\n",
    "\n",
    "Looking at the matrix, we can see that the model performs well on some classes, but not as well on others. For example, the model correctly classified a large number of samples for classes 4 and 8, with 121 and 145 correct predictions respectively. However, for classes 0 and 5, the model only correctly classified 78 and 111 samples respectively, out of a total of 195 and 216 samples.\n",
    "\n",
    "In general, it seems that the model struggles with some classes that have a similar audio profile or are more difficult to distinguish based on the available features. This highlights the importance of carefully selecting and engineering relevant features for audio classification tasks, as well as considering other model options that may perform better on certain types of data."
   ]
  },
  {
   "cell_type": "code",
   "execution_count": 91,
   "metadata": {},
   "outputs": [],
   "source": [
    "#calculating metrics from the confusion matrix\n",
    "FP_LG = cf_lg.sum(axis=0) - np.diag(cf_lg) \n",
    "FN_LG = cf_lg.sum(axis=1) - np.diag(cf_lg)\n",
    "TP_LG = np.diag(cf_lg)\n",
    "TN_LG = cf_lg.sum() - (FP_LG + FN_LG + TP_LG)\n",
    "FP_LG = FP_LG.astype(float)\n",
    "FN_LG = FN_LG.astype(float)\n",
    "TP_LG = TP_LG.astype(float)\n",
    "TN_LG = TN_LG.astype(float)\n",
    "# Sensitivity, hit rate, recall, or true positive rate\n",
    "TPR_LG = TP_LG/(TP_LG+FN_LG)\n",
    "# Specificity or true negative rate\n",
    "TNR_LG = TN_LG/(TN_LG+FP_LG) \n",
    "# Precision or positive predictive value\n",
    "PPV_LG = TP_LG/(TP_LG+FP_LG)\n",
    "# Negative predictive value\n",
    "NPV_LG = TN_LG/(TN_LG+FN_LG)\n",
    "# Fall out or false positive rate\n",
    "FPR_LG = FP_LG/(FP_LG+TN_LG)\n",
    "# False negative rate\n",
    "FNR_LG = FN_LG/(TP_LG+FN_LG)\n",
    "# False discovery rate\n",
    "FDR_LG = FP_LG/(TP_LG+FP_LG)\n",
    "# Overall accuracy for each class\n",
    "ACC_LG = (TP_LG+TN_LG)/(TP_LG+FP_LG+FN_LG+TN_LG)"
   ]
  },
  {
   "cell_type": "code",
   "execution_count": 92,
   "metadata": {},
   "outputs": [
    {
     "name": "stdout",
     "output_type": "stream",
     "text": [
      "Sensitivity for all 10 classes [0.4        0.74725275 0.49756098 0.54945055 0.5990099  0.51388889\n",
      " 0.35632184 0.68449198 0.72864322 0.37704918]\n"
     ]
    }
   ],
   "source": [
    "#Sensitivity of the logistic regression model for all 10classes\n",
    "print(\"Sensitivity for all 10 classes\", TPR_LG)"
   ]
  },
  {
   "cell_type": "markdown",
   "metadata": {},
   "source": [
    "The sensitivity results for the logistic regression model indicate the true positive rates for each class. We can see that the sensitivities vary widely between the classes, with some classes achieving high true positive rates (e.g., class 1 with a sensitivity of 0.75) and others achieving low true positive rates (e.g., class 7 with a sensitivity of 0.36). This suggests that the model may be better at predicting certain classes than others, and further investigation is needed to determine why this is the case."
   ]
  },
  {
   "cell_type": "code",
   "execution_count": 93,
   "metadata": {},
   "outputs": [
    {
     "name": "stdout",
     "output_type": "stream",
     "text": [
      "Specificity for all 9 classes [0.92268041 0.98369565 0.94487678 0.96166134 0.94498382 0.93468321\n",
      " 0.95421687 0.94230769 0.97028424 0.93286445]\n"
     ]
    }
   ],
   "source": [
    "#Specificity of the logistic regression model for all 9 classes\n",
    "print(\"Specificity for all 9 classes\", TNR_LG)"
   ]
  },
  {
   "cell_type": "markdown",
   "metadata": {},
   "source": [
    "the logistic regression model has high specificity for all 10 classes, indicating that the model is able to correctly identify the negative cases for each class. The values range from 0.922 to 0.983, which means that the model has a high true negative rate for each class.\n",
    "\n",
    "However, the sensitivity for all 10 classes is relatively low, ranging from 0.356 to 0.747. This means that the model is not as good at correctly identifying the positive cases for each class. The lowest sensitivity is for class 6, where the model only correctly identified 35.6% of the positive cases. This suggests that the model may be biased towards the negative cases, and may need further tuning or adjustment to improve its performance."
   ]
  },
  {
   "cell_type": "code",
   "execution_count": 94,
   "metadata": {},
   "outputs": [
    {
     "name": "stdout",
     "output_type": "stream",
     "text": [
      "              precision    recall  f1-score   support\n",
      "\n",
      "           0       0.39      0.40      0.40       195\n",
      "           1       0.72      0.75      0.73        91\n",
      "           2       0.55      0.50      0.52       205\n",
      "           3       0.62      0.55      0.58       182\n",
      "           4       0.59      0.60      0.59       202\n",
      "           5       0.53      0.51      0.52       216\n",
      "           6       0.29      0.36      0.32        87\n",
      "           7       0.59      0.68      0.63       187\n",
      "           8       0.76      0.73      0.74       199\n",
      "           9       0.40      0.38      0.39       183\n",
      "\n",
      "    accuracy                           0.55      1747\n",
      "   macro avg       0.54      0.55      0.54      1747\n",
      "weighted avg       0.55      0.55      0.55      1747\n",
      "\n"
     ]
    }
   ],
   "source": [
    "#logistic regression model classification report\n",
    "print(classification_report(y_test.argmax(axis=1), clf.predict(X_test)))\n",
    "report_lg = classification_report(y_test.argmax(axis=1), clf.predict(X_test), output_dict=True)\n",
    "metrics_lg = {\"accuraccy\":report_lg[\"accuracy\"]} \n",
    "metrics_lg.update(report_lg[\"weighted avg\"])\n"
   ]
  },
  {
   "cell_type": "markdown",
   "metadata": {},
   "source": [
    "From the output, we can see that the model performs relatively well for classes 1, 7, and 8 with F1-scores of 0.73, 0.63, and 0.74, respectively. However, the model's performance for other classes is not as good, with F1-scores ranging from 0.32 to 0.59. The overall accuracy of the model is 0.55, indicating that it correctly classifies 55% of the data.\n",
    "\n",
    "The macro and weighted averages of the metrics provide an overall summary of the model's performance. The macro average takes the average of the metrics across all classes, whereas the weighted average takes into account the class imbalance by weighting the metrics by the number of instances of each class. In this case, both macro and weighted averages indicate that the model's performance is relatively poor, with F1-scores of 0.54 and 0.55, respectively."
   ]
  },
  {
   "cell_type": "code",
   "execution_count": 95,
   "metadata": {},
   "outputs": [
    {
     "data": {
      "text/plain": [
       "{'accuraccy': 0.5455065827132227,\n",
       " 'precision': 0.548626250425235,\n",
       " 'recall': 0.5455065827132227,\n",
       " 'f1-score': 0.5460175017095895,\n",
       " 'support': 1747}"
      ]
     },
     "execution_count": 95,
     "metadata": {},
     "output_type": "execute_result"
    }
   ],
   "source": [
    "metrics_lg"
   ]
  },
  {
   "cell_type": "code",
   "execution_count": 96,
   "metadata": {},
   "outputs": [
    {
     "data": {
      "image/png": "[encoded data removed]",
      "text/plain": [
       "<Figure size 432x288 with 1 Axes>"
      ]
     },
     "metadata": {
      "needs_background": "light"
     },
     "output_type": "display_data"
    }
   ],
   "source": [
    "#logistic regression model ROC curve for all 9 classes\n",
    "\n",
    "lw = 1\n",
    "classifier = OneVsRestClassifier(LogisticRegression(solver = 'lbfgs',multi_class='auto',max_iter=10000))\n",
    "y_score = classifier.fit(X_train, y_train.argmax(axis=1)).predict_proba(X_test)\n",
    "\n",
    "n_classes = num_labels\n",
    "fpr = dict()\n",
    "tpr = dict()\n",
    "roc_auc = dict()\n",
    "for i in range(n_classes):\n",
    "    fpr[i], tpr[i], _ = roc_curve(y_test[:, i], y_score[:, i])\n",
    "    roc_auc[i] = auc(fpr[i], tpr[i])\n",
    "colors = cycle(['blue', 'red', 'green'])\n",
    "for i, color in zip(range(n_classes), colors):\n",
    "    plt.plot(fpr[i], tpr[i], color=color, lw=lw,\n",
    "             label='ROC curve of class {0} (area = {1:0.2f})'\n",
    "             ''.format(i, roc_auc[i]))\n",
    "   \n",
    "\n",
    "plt.plot([0, 1], [0, 1], 'k--', lw=lw)\n",
    "plt.xlim([-0.05, 1.0])\n",
    "plt.ylim([0.0, 1.05])\n",
    "plt.xlabel('False Positive Rate')\n",
    "plt.ylabel('True Positive Rate')\n",
    "plt.title('Receiver operating characteristic for multi-class data for logistic regression model')\n",
    "plt.legend(loc=\"lower right\")\n",
    "plt.show()\n"
   ]
  },
  {
   "cell_type": "markdown",
   "metadata": {},
   "source": [
    "logistic regression model. The ROC curve is a graphical representation of the performance of a binary classifier as the discrimination threshold is varied. It plots the true positive rate (sensitivity) against the false positive rate (1 - specificity) for different thresholds.\n",
    "\n",
    "For each class, the output also shows the area under the curve (AUC) value, which is a measure of how well the model is able to distinguish between the positive and negative class for that particular class label. An AUC of 1 indicates perfect discrimination, while an AUC of 0.5 indicates random guessing.\n",
    "\n",
    "In this case, we can see that the AUC values range from 0.82 to 0.94, with most classes having AUC values above 0.85. This suggests that the model is performing reasonably well in distinguishing between the different classes."
   ]
  },
  {
   "cell_type": "markdown",
   "metadata": {},
   "source": [
    "#### The Logistic Regression model has a validation accuraccy of 54.5%"
   ]
  },
  {
   "cell_type": "markdown",
   "metadata": {},
   "source": [
    "## Comparing the model metrics"
   ]
  },
  {
   "cell_type": "code",
   "execution_count": 97,
   "metadata": {},
   "outputs": [
    {
     "data": {
      "image/png": "[encoded data removed]",
      "text/plain": [
       "<Figure size 1440x720 with 1 Axes>"
      ]
     },
     "metadata": {
      "needs_background": "light"
     },
     "output_type": "display_data"
    }
   ],
   "source": [
    "# Plotting a bar chart comparing the model metrics\n",
    "plt.figure(figsize=(20,10)) \n",
    "x = np.arange(3)\n",
    "y1 = [metrics_nn[\"accuraccy\"], metrics_rf[\"accuraccy\"], metrics_lg[\"accuraccy\"]]\n",
    "y2 = [metrics_nn[\"precision\"], metrics_rf[\"precision\"], metrics_lg[\"precision\"]]\n",
    "y3 = [metrics_nn[\"recall\"], metrics_rf[\"recall\"], metrics_lg[\"recall\"]]\n",
    "y4 = [metrics_nn[\"f1-score\"], metrics_rf[\"f1-score\"], metrics_lg[\"f1-score\"]]\n",
    "width = 0.2\n",
    "  \n",
    "# plot data in grouped manner of bar type\n",
    "plt.bar(x-0.4, y1, width)\n",
    "plt.bar(x-0.2, y2, width)\n",
    "plt.bar(x, y3, width)\n",
    "plt.bar(x+0.2, y4, width)\n",
    "plt.xticks(x, ['Neural Network', 'Random Forest', 'Logistic Regression'])\n",
    "plt.xlabel(\"Models\")\n",
    "plt.ylabel(\"Scores\")\n",
    "plt.legend([\"accuraccy\", \"precision\", \"recall\", \"f1-score\"])\n",
    "plt.show()"
   ]
  },
  {
   "cell_type": "markdown",
   "metadata": {},
   "source": [
    "### We can see that the neural network model has the overall higher and more consistent values of the parameters. hence we chosse the neural network model as our final model for predictions"
   ]
  },
  {
   "cell_type": "markdown",
   "metadata": {},
   "source": [
    "\n",
    "\n",
    "* Models-------------Accuracy--------Precision-------Recall-------F1 score\n",
    "* Neural Network-----0.81------------0.82-------------0.81---------0.81\n",
    "* Random forest------0.6760----------0.9018----------0.6760-------0.7159\n",
    "* Logistic regression-0.5455---------0.5486----------0.5455-------0.5460\n",
    "\n",
    "\n",
    "\n",
    "\n",
    "After analyzing the output, it is evident that the neural network model outperforms the other two models with an accuracy of 0.831, precision of 0.82, recall of 0.81, and an F1 score of 0.81. The random forest model, on the other hand, has a lower accuracy of 0.6760 but boasts a higher precision of 0.9018 and a slightly higher F1 score of 0.7159. However, it falls short in terms of recall, with a score of 0.6760 compared to the neural network.\n",
    "\n",
    "The logistic regression model, unfortunately, performs the worst with an accuracy of 0.5455, precision of 0.5486, recall of 0.5455, and an F1 score of 0.5460.\n",
    "\n",
    "Overall, the neural network model appears to be the most balanced option in terms of accuracy, precision, recall, and F1 score. However, depending on the specific use case and priorities, the random forest model could also be a viable option, especially if high precision is of utmost importance. The logistic regression model, on the other hand, is not as effective in this scenario."
   ]
  },
  {
   "cell_type": "code",
   "execution_count": 136,
   "metadata": {},
   "outputs": [],
   "source": [
    "#saving the label encoder data to local folder for reusing\n",
    "\n",
    "dump(labelencoder, open('encoder.pkl', 'wb'))"
   ]
  },
  {
   "cell_type": "code",
   "execution_count": 137,
   "metadata": {},
   "outputs": [],
   "source": [
    "#saving the neural network model in h5 format\n",
    "model.save(\"neural_network.h5\")"
   ]
  },
  {
   "cell_type": "code",
   "execution_count": null,
   "metadata": {},
   "outputs": [],
   "source": []
  },
  {
   "cell_type": "code",
   "execution_count": null,
   "metadata": {},
   "outputs": [],
   "source": []
  }
 ],
 "metadata": {
  "kernelspec": {
   "display_name": "Python 3 (ipykernel)",
   "language": "python",
   "name": "python3"
  },
  "language_info": {
   "codemirror_mode": {
    "name": "ipython",
    "version": 3
   },
   "file_extension": ".py",
   "mimetype": "text/x-python",
   "name": "python",
   "nbconvert_exporter": "python",
   "pygments_lexer": "ipython3",
   "version": "3.7.11"
  }
 },
 "nbformat": 4,
 "nbformat_minor": 4
}
