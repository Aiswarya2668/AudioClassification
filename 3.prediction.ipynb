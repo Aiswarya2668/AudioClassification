{
 "cells": [
  {
   "cell_type": "markdown",
   "id": "e3a1e4b7-f48c-49f4-a0e9-c2cb828ea49d",
   "metadata": {},
   "source": [
    "### Import the required packages"
   ]
  },
  {
   "cell_type": "code",
   "execution_count": 1,
   "id": "e676e28b-888f-4c78-9559-2686d9a8efbe",
   "metadata": {},
   "outputs": [
    {
     "name": "stderr",
     "output_type": "stream",
     "text": [
      "2023-04-18 15:31:52.626215: I tensorflow/core/platform/cpu_feature_guard.cc:193] This TensorFlow binary is optimized with oneAPI Deep Neural Network Library (oneDNN) to use the following CPU instructions in performance-critical operations:  AVX2 FMA\n",
      "To enable them in other operations, rebuild TensorFlow with the appropriate compiler flags.\n",
      "2023-04-18 15:31:52.701418: W tensorflow/compiler/xla/stream_executor/platform/default/dso_loader.cc:64] Could not load dynamic library 'libcudart.so.11.0'; dlerror: libcudart.so.11.0: cannot open shared object file: No such file or directory; LD_LIBRARY_PATH: /usr/local/cuda-11.2/lib64\n",
      "2023-04-18 15:31:52.701431: I tensorflow/compiler/xla/stream_executor/cuda/cudart_stub.cc:29] Ignore above cudart dlerror if you do not have a GPU set up on your machine.\n",
      "2023-04-18 15:31:53.165404: W tensorflow/compiler/xla/stream_executor/platform/default/dso_loader.cc:64] Could not load dynamic library 'libnvinfer.so.7'; dlerror: libnvinfer.so.7: cannot open shared object file: No such file or directory; LD_LIBRARY_PATH: /usr/local/cuda-11.2/lib64\n",
      "2023-04-18 15:31:53.165443: W tensorflow/compiler/xla/stream_executor/platform/default/dso_loader.cc:64] Could not load dynamic library 'libnvinfer_plugin.so.7'; dlerror: libnvinfer_plugin.so.7: cannot open shared object file: No such file or directory; LD_LIBRARY_PATH: /usr/local/cuda-11.2/lib64\n",
      "2023-04-18 15:31:53.165447: W tensorflow/compiler/tf2tensorrt/utils/py_utils.cc:38] TF-TRT Warning: Cannot dlopen some TensorRT libraries. If you would like to use Nvidia GPU with TensorRT, please make sure the missing libraries mentioned above are installed properly.\n"
     ]
    }
   ],
   "source": [
    "import os\n",
    "from pickle import load\n",
    "import tensorflow as tf\n",
    "from tensorflow import keras\n",
    "import numpy as np\n",
    "import librosa"
   ]
  },
  {
   "cell_type": "code",
   "execution_count": 5,
   "id": "54f4c5c6-f332-465c-8278-5d8b6a8ee987",
   "metadata": {},
   "outputs": [],
   "source": [
    "def predict_audio(filename):\n",
    "    \n",
    "    #load saved neural network model\n",
    "    model = keras.models.load_model('neural_network.h5')\n",
    "\n",
    "    #load saved label encoder\n",
    "    labelencoder = load(open('encoder.pkl', 'rb'))\n",
    "\n",
    "    #preprocess the audio file\n",
    "    audio, sample_rate = librosa.load(filename) \n",
    "    mfccs_features = librosa.feature.mfcc(y=audio, sr=sample_rate, n_mfcc=28)\n",
    "    mfccs_scaled_features = np.mean(mfccs_features.T,axis=0)\n",
    "    \n",
    "    #Reshape MFCC feature to 2-D array\n",
    "    mfccs_scaled_features=mfccs_scaled_features.reshape(1,-1)\n",
    "\n",
    "    # Predict the audio class type using the loaded model \n",
    "    x_predict=model.predict(mfccs_scaled_features) \n",
    "    predicted_label=np.argmax(x_predict,axis=1)\n",
    "\n",
    "    #use the label encoder to get the corresponding audio type label from the predicted class integer value\n",
    "    prediction_class = labelencoder.inverse_transform(predicted_label)[0] \n",
    "    print(prediction_class)"
   ]
  },
  {
   "cell_type": "code",
   "execution_count": 6,
   "id": "aa9eaef9-032b-44c4-af00-546f04134f39",
   "metadata": {},
   "outputs": [
    {
     "name": "stdout",
     "output_type": "stream",
     "text": [
      "1/1 [==============================] - 0s 43ms/step\n",
      "air_conditioner\n"
     ]
    }
   ],
   "source": [
    "predict_audio('test/test1.wav')"
   ]
  },
  {
   "cell_type": "code",
   "execution_count": 7,
   "id": "e0aeaef9-a676-4e96-a3cb-126ae2bd6abd",
   "metadata": {},
   "outputs": [
    {
     "name": "stdout",
     "output_type": "stream",
     "text": [
      "1/1 [==============================] - 0s 44ms/step\n",
      "gun_shot\n"
     ]
    }
   ],
   "source": [
    "predict_audio('test/test2.wav')"
   ]
  },
  {
   "cell_type": "code",
   "execution_count": null,
   "id": "1b797490-e0bc-4ae0-98dd-5be846e1bc99",
   "metadata": {},
   "outputs": [],
   "source": [
    "predict_audio('test/test3.wav')"
   ]
  }
 ],
 "metadata": {
  "kernelspec": {
   "display_name": "Python 3 (ipykernel)",
   "language": "python",
   "name": "python3"
  },
  "language_info": {
   "codemirror_mode": {
    "name": "ipython",
    "version": 3
   },
   "file_extension": ".py",
   "mimetype": "text/x-python",
   "name": "python",
   "nbconvert_exporter": "python",
   "pygments_lexer": "ipython3",
   "version": "3.7.11"
  }
 },
 "nbformat": 4,
 "nbformat_minor": 5
}
